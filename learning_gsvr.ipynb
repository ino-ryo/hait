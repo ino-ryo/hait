{
 "cells": [
  {
   "cell_type": "code",
   "execution_count": 2,
   "metadata": {},
   "outputs": [],
   "source": [
    "# 必要なライブラリを読み込み\n",
    "import numpy as np\n",
    "import pandas as pd\n",
    "import matplotlib.pyplot as plt\n",
    "import seaborn as sns\n",
    "%matplotlib inline"
   ]
  },
  {
   "cell_type": "code",
   "execution_count": 3,
   "metadata": {},
   "outputs": [
    {
     "data": {
      "text/plain": [
       "Index(['stage', 'total_p_score', 'capa', 'distance(min)', 'home rank',\n",
       "       'area rank', 'rerative distance', 'away rank', 'id', 'holiday',\n",
       "       'weather rank', 'month', 'match day'],\n",
       "      dtype='object')"
      ]
     },
     "execution_count": 3,
     "metadata": {},
     "output_type": "execute_result"
    }
   ],
   "source": [
    "#前処理したデータを読み込み\n",
    "#train = pd.read_csv('edited_train.csv').drop([\"SOR\"],axis = 1)\n",
    "train = pd.read_csv('edited_train.csv').drop([\"y\", \"year\", 'hokkaido','kansai', 'disconfort', 'kantou', 'temperature', 'humidity',  'kyusyu','shikoku', 'tohoku', 'tyubu', 'tyugoku','stadium',\"home area\",\"away area\"],axis = 1)\n",
    "test = pd.read_csv('edited_test.csv').drop([ \"year\", 'hokkaido','kansai', 'disconfort', 'kantou', 'temperature', 'humidity',  'kyusyu','shikoku', 'tohoku', 'tyubu', 'tyugoku','stadium',\"home area\",\"away area\"],axis = 1)\n",
    "#data1.head(10)\n",
    "top6_index=train.corr()['logy'].abs().nlargest(15).index \n",
    "top6_index[1:]"
   ]
  },
  {
   "cell_type": "code",
   "execution_count": 5,
   "metadata": {},
   "outputs": [],
   "source": [
    "drop_col = [\"y\",\"SOR\",\"home_area\",\"away_area\",\"temperature\",\"humidity\",\"year\"]\n",
    "#drop_col = [\"y\",\"SOR\"]\n",
    "area_col = [\"hokkaido\",\"tohoku\",\"kantou\",\"tyubu\",\"kansai\",\"shikoku\",\"tyugoku\",\"kyusyu\"]\n",
    "#drop_col = [\"y\",\"SOR\",\"home area\",\"away area\",\"temperature\",\"humidity\",\"year\"]+area_col\n",
    "drop_col = [\"y\",\"SOR\",\"home area\",\"away area\",\"temperature\",\"humidity\",\"year\",\"rerative distance\"]"
   ]
  },
  {
   "cell_type": "code",
   "execution_count": 4,
   "metadata": {},
   "outputs": [
    {
     "data": {
      "text/plain": [
       "Index(['stage', 'total_p_score', 'capa', 'distance(min)', 'home rank',\n",
       "       'area rank', 'rerative distance', 'away rank', 'id', 'holiday',\n",
       "       'weather rank', 'month', 'match day'],\n",
       "      dtype='object')"
      ]
     },
     "execution_count": 4,
     "metadata": {},
     "output_type": "execute_result"
    }
   ],
   "source": [
    "top6_index=train.corr()['logy'].abs().nlargest(15).index \n",
    "top6_index[1:]"
   ]
  },
  {
   "cell_type": "code",
   "execution_count": 5,
   "metadata": {},
   "outputs": [
    {
     "name": "stderr",
     "output_type": "stream",
     "text": [
      "/Users/itarou/anaconda3/lib/python3.6/site-packages/sklearn/preprocessing/data.py:625: DataConversionWarning: Data with input dtype int64, float64 were all converted to float64 by StandardScaler.\n",
      "  return self.partial_fit(X, y)\n",
      "/Users/itarou/anaconda3/lib/python3.6/site-packages/sklearn/base.py:462: DataConversionWarning: Data with input dtype int64, float64 were all converted to float64 by StandardScaler.\n",
      "  return self.fit(X, **fit_params).transform(X)\n",
      "/Users/itarou/anaconda3/lib/python3.6/site-packages/sklearn/preprocessing/data.py:625: DataConversionWarning: Data with input dtype int64, float64 were all converted to float64 by StandardScaler.\n",
      "  return self.partial_fit(X, y)\n",
      "/Users/itarou/anaconda3/lib/python3.6/site-packages/sklearn/base.py:462: DataConversionWarning: Data with input dtype int64, float64 were all converted to float64 by StandardScaler.\n",
      "  return self.fit(X, **fit_params).transform(X)\n"
     ]
    }
   ],
   "source": [
    "# データの標準化\n",
    "from sklearn.preprocessing import StandardScaler\n",
    "from sklearn.model_selection import train_test_split\n",
    "#X = train.loc[:,top6_index[1:]].drop([\"month\", 'accessibility'],axis=1)\n",
    "#testX = test.loc[:,top6_index[1:]].drop([\"month\", 'accessibility'],axis=1)\n",
    "X = train.loc[:,top6_index[1:]].drop([\"month\",\"id\"],axis=1)\n",
    "testX = test.loc[:,top6_index[1:]].drop([\"month\",\"id\"],axis=1)\n",
    "\n",
    "#X = train.loc[:,['stage', 'total_p_score', 'capa', 'distance(min)','home rank', 'area rank', 'rerative distance', 'away rank','weather rank', 'match day']]\n",
    "y = train.loc[:,[\"logy\"]].values.reshape(-1)\n",
    "\n",
    "scaler = StandardScaler()\n",
    "X_std = scaler.fit_transform(X) # Xを標準化した行列を生成\n",
    "testX_std = scaler.fit_transform(testX)\n",
    "X_train, X_test, y_train, y_test = train_test_split(X_std, y, test_size = 0.25, random_state = 490)"
   ]
  },
  {
   "cell_type": "code",
   "execution_count": 6,
   "metadata": {},
   "outputs": [
    {
     "data": {
      "text/plain": [
       "array([  10.        ,   15.19911083,   23.101297  ,   35.11191734,\n",
       "         53.36699231,   81.11308308,  123.28467394,  187.38174229,\n",
       "        284.80358684,  432.87612811,  657.93322466, 1000.        ])"
      ]
     },
     "execution_count": 6,
     "metadata": {},
     "output_type": "execute_result"
    }
   ],
   "source": [
    "np.logspace(1, 3, 12)"
   ]
  },
  {
   "cell_type": "code",
   "execution_count": 54,
   "metadata": {},
   "outputs": [],
   "source": [
    "from sklearn.svm import SVR\n",
    "from sklearn.model_selection import GridSearchCV\n",
    "params = {\"alpha\":np.logspace(-2, 4, 24)}\n",
    "# (モデルのインスタンス, 試したいパラメータの値, 分割方法)\n",
    "gs_rd = GridSearchCV(SVR(), params,cv = kf_4)"
   ]
  },
  {
   "cell_type": "code",
   "execution_count": 10,
   "metadata": {},
   "outputs": [
    {
     "data": {
      "text/plain": [
       "array([1.00000000e-02, 4.64158883e-02, 2.15443469e-01, 1.00000000e+00,\n",
       "       4.64158883e+00, 2.15443469e+01, 1.00000000e+02, 4.64158883e+02,\n",
       "       2.15443469e+03, 1.00000000e+04])"
      ]
     },
     "execution_count": 10,
     "metadata": {},
     "output_type": "execute_result"
    }
   ],
   "source": [
    "np.logspace(-2, 4, 10)"
   ]
  },
  {
   "cell_type": "code",
   "execution_count": null,
   "metadata": {
    "scrolled": true
   },
   "outputs": [],
   "source": [
    "from sklearn.svm import SVR\n",
    "from sklearn.model_selection import GridSearchCV\n",
    "# ハイパーパラメータのチューニング\n",
    "params_cnt = 5\n",
    "cstart = 5\n",
    "cstop = 10\n",
    "gstart = -7\n",
    "gstop =-3\n",
    "#params = {\"C\":np.logspace(10,100,params_cnt), \"epsilon\":np.logspace(-1,1,params_cnt)}\n",
    "#params={'C': np.logspace(cstart, cstop, params_cnt),'gamma': np.logspace(gstart, gstop, params_cnt)}\n",
    "params={'C':np.logspace(1, 5, 4),'gamma': np.logspace(1, 5, 2)}\n",
    "gridsearch = GridSearchCV(SVR(kernel=\"linear\"), params, cv=2, scoring=\"r2\", return_train_score=True)\n",
    "gridsearch.fit(X_train, y_train)\n",
    "print(\"C, εのチューニング\")\n",
    "print(\"最適なパラメーター =\", gridsearch.best_params_)\n",
    "print(\"精度 =\", gridsearch.best_score_)\n",
    "print()"
   ]
  },
  {
   "cell_type": "code",
   "execution_count": 14,
   "metadata": {},
   "outputs": [],
   "source": [
    "paramd = {'C': 4.6415888336127775, 'gamma': 0.0001}\n",
    "paramd ={'C': 21.54434690031882, 'gamma': 0.046415888336127774}\n",
    "paramd ={'C': 4.6415888336127775, 'gamma': 0.046415888336127774}\n",
    "paramd = {'C': 10.0, 'gamma': 0.02848035868435802}\n",
    "paramd= {'C': 2.848035868435802, 'gamma': 0.0533669923120631}"
   ]
  },
  {
   "cell_type": "code",
   "execution_count": 18,
   "metadata": {},
   "outputs": [
    {
     "name": "stderr",
     "output_type": "stream",
     "text": [
      "/Users/itarou/anaconda3/lib/python3.6/site-packages/sklearn/svm/base.py:196: FutureWarning: The default value of gamma will change from 'auto' to 'scale' in version 0.22 to account better for unscaled features. Set gamma explicitly to 'auto' or 'scale' to avoid this warning.\n",
      "  \"avoid this warning.\", FutureWarning)\n"
     ]
    },
    {
     "name": "stdout",
     "output_type": "stream",
     "text": [
      "\n",
      "テストデータにフィット\n",
      "テストデータの精度 = 0.7848379090825627\n",
      "\n",
      "※参考\n",
      "訓練データの精度 = 0.9090279782068021\n"
     ]
    }
   ],
   "source": [
    "from sklearn.svm import SVR\n",
    "#regr = SVR(kernel=\"linear\", C=gridsearch.best_params_[\"C\"], epsilon=gridsearch.best_params_[\"gamma\"])\n",
    "regr = SVR(kernel=\"rbf\", C=paramd[\"C\"], epsilon=paramd[\"gamma\"])\n",
    "regr.fit(X_train, y_train)\n",
    "#print(\"切片と係数\")\n",
    "#print(regr.intercept_)\n",
    "#print(regr.coef_)\n",
    "print()\n",
    "# テストデータの精度を計算\n",
    "print(\"テストデータにフィット\")\n",
    "print(\"テストデータの精度 =\", regr.score(X_test, y_test))\n",
    "print()\n",
    "print(\"※参考\")\n",
    "print(\"訓練データの精度 =\", regr.score(X_train, y_train))\n",
    "#print(\"交差検証データの精度 =\", regr.score(X_norm[valid_indices, :], y[valid_indices]))"
   ]
  },
  {
   "cell_type": "code",
   "execution_count": 19,
   "metadata": {},
   "outputs": [
    {
     "name": "stdout",
     "output_type": "stream",
     "text": [
      "train RMSE:2574.439\n",
      "test  RMSE:3846.722\n"
     ]
    }
   ],
   "source": [
    "from sklearn.metrics import mean_squared_error as mse\n",
    "print('train RMSE:%.3f'%(mse(np.exp(y_train), np.exp(regr.predict(X_train))) ** (1/2)))\n",
    "print('test  RMSE:%.3f'%(mse(np.exp(y_test), np.exp(regr.predict(X_test))) ** (1/2)))"
   ]
  },
  {
   "cell_type": "code",
   "execution_count": 47,
   "metadata": {},
   "outputs": [],
   "source": [
    "result = pd.concat([test[\"id\"],pd.DataFrame(np.exp(regr.predict(testX_std)))],axis = 1)\n",
    "result.to_csv(\"result_gsvr.csv\", header=False,index=False)"
   ]
  },
  {
   "cell_type": "code",
   "execution_count": 17,
   "metadata": {},
   "outputs": [
    {
     "ename": "NameError",
     "evalue": "name 'params' is not defined",
     "output_type": "error",
     "traceback": [
      "\u001b[0;31m---------------------------------------------------------------------------\u001b[0m",
      "\u001b[0;31mNameError\u001b[0m                                 Traceback (most recent call last)",
      "\u001b[0;32m<ipython-input-17-32ede9451bee>\u001b[0m in \u001b[0;36m<module>\u001b[0;34m\u001b[0m\n\u001b[1;32m      1\u001b[0m \u001b[0;31m# 検証曲線\u001b[0m\u001b[0;34m\u001b[0m\u001b[0;34m\u001b[0m\u001b[0m\n\u001b[0;32m----> 2\u001b[0;31m \u001b[0mplt_x\u001b[0m\u001b[0;34m,\u001b[0m \u001b[0mplt_y\u001b[0m \u001b[0;34m=\u001b[0m \u001b[0mnp\u001b[0m\u001b[0;34m.\u001b[0m\u001b[0mmeshgrid\u001b[0m\u001b[0;34m(\u001b[0m\u001b[0mparams\u001b[0m\u001b[0;34m[\u001b[0m\u001b[0;34m\"C\"\u001b[0m\u001b[0;34m]\u001b[0m\u001b[0;34m,\u001b[0m \u001b[0mparams\u001b[0m\u001b[0;34m[\u001b[0m\u001b[0;34m\"epsilon\"\u001b[0m\u001b[0;34m]\u001b[0m\u001b[0;34m)\u001b[0m\u001b[0;34m\u001b[0m\u001b[0m\n\u001b[0m\u001b[1;32m      3\u001b[0m \u001b[0mfig\u001b[0m \u001b[0;34m=\u001b[0m \u001b[0mplt\u001b[0m\u001b[0;34m.\u001b[0m\u001b[0mfigure\u001b[0m\u001b[0;34m(\u001b[0m\u001b[0mfigsize\u001b[0m\u001b[0;34m=\u001b[0m\u001b[0;34m(\u001b[0m\u001b[0;36m8\u001b[0m\u001b[0;34m,\u001b[0m\u001b[0;36m8\u001b[0m\u001b[0;34m)\u001b[0m\u001b[0;34m)\u001b[0m\u001b[0;34m\u001b[0m\u001b[0m\n\u001b[1;32m      4\u001b[0m \u001b[0mfig\u001b[0m\u001b[0;34m.\u001b[0m\u001b[0msubplots_adjust\u001b[0m\u001b[0;34m(\u001b[0m\u001b[0mhspace\u001b[0m \u001b[0;34m=\u001b[0m \u001b[0;36m0.3\u001b[0m\u001b[0;34m)\u001b[0m\u001b[0;34m\u001b[0m\u001b[0m\n\u001b[1;32m      5\u001b[0m \u001b[0;32mfor\u001b[0m \u001b[0mi\u001b[0m \u001b[0;32min\u001b[0m \u001b[0mrange\u001b[0m\u001b[0;34m(\u001b[0m\u001b[0;36m2\u001b[0m\u001b[0;34m)\u001b[0m\u001b[0;34m:\u001b[0m\u001b[0;34m\u001b[0m\u001b[0m\n",
      "\u001b[0;31mNameError\u001b[0m: name 'params' is not defined"
     ]
    }
   ],
   "source": [
    "# 検証曲線\n",
    "plt_x, plt_y = np.meshgrid(params[\"C\"], params[\"epsilon\"])\n",
    "fig = plt.figure(figsize=(8,8))\n",
    "fig.subplots_adjust(hspace = 0.3)\n",
    "for i in range(2):\n",
    "    if i==0:\n",
    "        plt_z = np.array(gridsearch.cv_results_[\"mean_train_score\"]).reshape(params_cnt, params_cnt, order=\"F\")\n",
    "        title = \"Train\"\n",
    "    else:\n",
    "        plt_z = np.array(gridsearch.cv_results_[\"mean_test_score\"]).reshape(params_cnt, params_cnt, order=\"F\")\n",
    "        title = \"Cross Validation\"\n",
    "    ax = fig.add_subplot(2, 1, i+1)\n",
    "    CS = ax.contour(plt_x, plt_y, plt_z, levels=[0.6, 0.65, 0.7, 0.75, 0.8, 0.85])\n",
    "    ax.clabel(CS, CS.levels, inline=True)\n",
    "    ax.set_xscale(\"log\")\n",
    "    ax.set_yscale(\"log\")\n",
    "    ax.set_xlabel(\"C\")\n",
    "    ax.set_ylabel(\"epsilon\")\n",
    "    ax.set_title(title)\n",
    "plt.suptitle(\"Validation curve / Gaussian SVR\")\n",
    "plt.show()"
   ]
  },
  {
   "cell_type": "code",
   "execution_count": null,
   "metadata": {},
   "outputs": [],
   "source": []
  }
 ],
 "metadata": {
  "kernelspec": {
   "display_name": "Python 3",
   "language": "python",
   "name": "python3"
  },
  "language_info": {
   "codemirror_mode": {
    "name": "ipython",
    "version": 3
   },
   "file_extension": ".py",
   "mimetype": "text/x-python",
   "name": "python",
   "nbconvert_exporter": "python",
   "pygments_lexer": "ipython3",
   "version": "3.6.6"
  }
 },
 "nbformat": 4,
 "nbformat_minor": 2
}
