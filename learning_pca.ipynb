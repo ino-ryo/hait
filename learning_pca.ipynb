{
 "cells": [
  {
   "cell_type": "code",
   "execution_count": 1,
   "metadata": {},
   "outputs": [],
   "source": [
    "# 必要なライブラリを読み込み\n",
    "import numpy as np\n",
    "import pandas as pd\n",
    "import matplotlib.pyplot as plt\n",
    "import seaborn as sns\n",
    "%matplotlib inline"
   ]
  },
  {
   "cell_type": "code",
   "execution_count": 8,
   "metadata": {},
   "outputs": [
    {
     "data": {
      "text/plain": [
       "Index(['stage', 'total_p_score', 'capa', 'distance(min)', 'home rank',\n",
       "       'area rank', 'rerative distance', 'away rank', 'id', 'holiday',\n",
       "       'weather rank', 'month', 'match day'],\n",
       "      dtype='object')"
      ]
     },
     "execution_count": 8,
     "metadata": {},
     "output_type": "execute_result"
    }
   ],
   "source": [
    "#前処理したデータを読み込み\n",
    "#train = pd.read_csv('edited_train.csv').drop([\"SOR\"],axis = 1)\n",
    "train = pd.read_csv('edited_train.csv').drop([\"y\", \"year\", 'hokkaido','kansai', 'disconfort', 'kantou', 'temperature', 'humidity',  'kyusyu','shikoku', 'tohoku', 'tyubu', 'tyugoku','stadium',\"home area\",\"away area\"],axis = 1)\n",
    "test = pd.read_csv('edited_test.csv').drop([ \"year\", 'hokkaido','kansai', 'disconfort', 'kantou', 'temperature', 'humidity',  'kyusyu','shikoku', 'tohoku', 'tyubu', 'tyugoku','stadium',\"home area\",\"away area\"],axis = 1)\n",
    "#data1.head(10)\n",
    "top6_index=train.corr()['logy'].abs().nlargest(15).index \n",
    "top6_index[1:]"
   ]
  },
  {
   "cell_type": "code",
   "execution_count": 9,
   "metadata": {},
   "outputs": [
    {
     "name": "stderr",
     "output_type": "stream",
     "text": [
      "/Users/itarou/anaconda3/lib/python3.6/site-packages/sklearn/preprocessing/data.py:625: DataConversionWarning: Data with input dtype int64, float64 were all converted to float64 by StandardScaler.\n",
      "  return self.partial_fit(X, y)\n",
      "/Users/itarou/anaconda3/lib/python3.6/site-packages/sklearn/base.py:462: DataConversionWarning: Data with input dtype int64, float64 were all converted to float64 by StandardScaler.\n",
      "  return self.fit(X, **fit_params).transform(X)\n",
      "/Users/itarou/anaconda3/lib/python3.6/site-packages/sklearn/preprocessing/data.py:625: DataConversionWarning: Data with input dtype int64, float64 were all converted to float64 by StandardScaler.\n",
      "  return self.partial_fit(X, y)\n",
      "/Users/itarou/anaconda3/lib/python3.6/site-packages/sklearn/base.py:462: DataConversionWarning: Data with input dtype int64, float64 were all converted to float64 by StandardScaler.\n",
      "  return self.fit(X, **fit_params).transform(X)\n"
     ]
    }
   ],
   "source": [
    "# データの標準化\n",
    "from sklearn.preprocessing import StandardScaler\n",
    "from sklearn.model_selection import train_test_split\n",
    "#X = train.loc[:,top6_index[1:]].drop([\"month\", 'accessibility'],axis=1)\n",
    "#testX = test.loc[:,top6_index[1:]].drop([\"month\", 'accessibility'],axis=1)\n",
    "X = train.loc[:,top6_index[1:]].drop([\"month\",\"id\"],axis=1)\n",
    "testX = test.loc[:,top6_index[1:]].drop([\"month\",\"id\"],axis=1)\n",
    "\n",
    "#X = train.loc[:,['stage', 'total_p_score', 'capa', 'distance(min)','home rank', 'area rank', 'rerative distance', 'away rank','weather rank', 'match day']]\n",
    "y = train.loc[:,[\"logy\"]].values.reshape(-1)\n",
    "\n",
    "scaler = StandardScaler()\n",
    "X_std = scaler.fit_transform(X) # Xを標準化した行列を生成\n",
    "testX_std = scaler.fit_transform(testX)\n",
    "X_train, X_test, y_train, y_test = train_test_split(X_std, y, test_size = 0.25, random_state = 4903)"
   ]
  },
  {
   "cell_type": "code",
   "execution_count": 10,
   "metadata": {},
   "outputs": [],
   "source": [
    "ele = 8"
   ]
  },
  {
   "cell_type": "code",
   "execution_count": 11,
   "metadata": {},
   "outputs": [
    {
     "data": {
      "text/plain": [
       "Index(['stage', 'total_p_score', 'capa', 'distance(min)', 'home rank',\n",
       "       'area rank', 'rerative distance', 'away rank', 'holiday',\n",
       "       'weather rank', 'match day'],\n",
       "      dtype='object')"
      ]
     },
     "execution_count": 11,
     "metadata": {},
     "output_type": "execute_result"
    }
   ],
   "source": [
    "X.columns"
   ]
  },
  {
   "cell_type": "code",
   "execution_count": 12,
   "metadata": {},
   "outputs": [],
   "source": [
    "from sklearn.decomposition import PCA\n",
    "pca = PCA(n_components=8) # 主成分を6まで取得\n",
    "X_pca = pca.fit_transform(X_train)"
   ]
  },
  {
   "cell_type": "code",
   "execution_count": 13,
   "metadata": {
    "scrolled": false
   },
   "outputs": [
    {
     "name": "stdout",
     "output_type": "stream",
     "text": [
      "[0.25719426 0.36420329 0.46607524 0.55710895 0.64575091 0.72838605\n",
      " 0.80465814 0.87193839]\n"
     ]
    }
   ],
   "source": [
    "# 累積寄与率を出力\n",
    "# np.cumsum()で固有値の累積をとる\n",
    "# [第1主成分までの累積寄与率 第2主成分までの累積寄与率 ...]\n",
    "print(np.cumsum(pca.explained_variance_ratio_))"
   ]
  },
  {
   "cell_type": "code",
   "execution_count": 14,
   "metadata": {},
   "outputs": [],
   "source": [
    "# 2次関数の変数変換\n",
    "from sklearn.preprocessing import PolynomialFeatures\n",
    "# 2次の多項式規定を生成\n",
    "quad = PolynomialFeatures(degree=1)\n",
    "# 生成した基底関数で変数変換を実行\n",
    "X_quad = quad.fit_transform(X_pca[:, 0:ele])"
   ]
  },
  {
   "cell_type": "code",
   "execution_count": 15,
   "metadata": {},
   "outputs": [
    {
     "name": "stderr",
     "output_type": "stream",
     "text": [
      "/Users/itarou/anaconda3/lib/python3.6/site-packages/ipykernel_launcher.py:7: UserWarning: With alpha=0, this algorithm does not converge well. You are advised to use the LinearRegression estimator\n",
      "  import sys\n",
      "/Users/itarou/anaconda3/lib/python3.6/site-packages/sklearn/linear_model/coordinate_descent.py:478: UserWarning: Coordinate descent with no regularization may lead to unexpected results and is discouraged.\n",
      "  positive)\n",
      "/Users/itarou/anaconda3/lib/python3.6/site-packages/sklearn/linear_model/coordinate_descent.py:492: ConvergenceWarning: Objective did not converge. You might want to increase the number of iterations. Fitting data with very small alpha may cause precision problems.\n",
      "  ConvergenceWarning)\n"
     ]
    },
    {
     "data": {
      "text/plain": [
       "Lasso(alpha=0, copy_X=True, fit_intercept=True, max_iter=1000,\n",
       "   normalize=False, positive=False, precompute=False, random_state=None,\n",
       "   selection='cyclic', tol=0.0001, warm_start=False)"
      ]
     },
     "execution_count": 15,
     "metadata": {},
     "output_type": "execute_result"
    }
   ],
   "source": [
    "# LASSO回帰を実行\n",
    "# LASSO回帰のクラスを読み込み\n",
    "from sklearn.linear_model import Lasso\n",
    "# LASSO回帰のインスタンスを生成\n",
    "model_lasso = Lasso(alpha=0)\n",
    "# データを学習させる\n",
    "model_lasso.fit(X_quad, y_train)"
   ]
  },
  {
   "cell_type": "code",
   "execution_count": 16,
   "metadata": {},
   "outputs": [
    {
     "name": "stdout",
     "output_type": "stream",
     "text": [
      "train RMSE:4751.238\n",
      "test RMSE:4792.009\n"
     ]
    }
   ],
   "source": [
    "from sklearn.metrics import mean_squared_error as mse\n",
    "print('train RMSE:%.3f'%(mse(np.exp(y_train), np.exp(model_lasso.predict(X_quad))) ** (1/2)))\n",
    "Xd = pca.transform(X_test)\n",
    "X_quad_test = quad.fit_transform(Xd[:, 0:ele])\n",
    "print('test RMSE:%.3f'%(mse(np.exp(y_test), np.exp(model_lasso.predict(X_quad_test))) ** (1/2)))"
   ]
  },
  {
   "cell_type": "code",
   "execution_count": 20,
   "metadata": {},
   "outputs": [
    {
     "data": {
      "text/plain": [
       "GridSearchCV(cv=5, error_score='raise-deprecating',\n",
       "       estimator=Lasso(alpha=1.0, copy_X=True, fit_intercept=True, max_iter=1000,\n",
       "   normalize=False, positive=False, precompute=False, random_state=None,\n",
       "   selection='cyclic', tol=0.0001, warm_start=False),\n",
       "       fit_params=None, iid='warn', n_jobs=None,\n",
       "       param_grid={'alpha': array([1.00000e-05, 1.35031e-05, 1.82335e-05, 2.46209e-05, 3.32460e-05,\n",
       "       4.48925e-05, 6.06190e-05, 8.18547e-05, 1.10530e-04, 1.49250e-04,\n",
       "       2.01534e-04, 2.72134e-04, 3.67466e-04, 4.96195e-04, 6.70019e-04,\n",
       "       9.04736e-04, 1.22168e-03, 1.64965e-03, 2.22754e-03, 3.00788e-03,\n",
       "       4.06159e-03, 5.48442e-03, 7.40568e-03, 1.00000e-02])},\n",
       "       pre_dispatch='2*n_jobs', refit=True, return_train_score='warn',\n",
       "       scoring=None, verbose=0)"
      ]
     },
     "execution_count": 20,
     "metadata": {},
     "output_type": "execute_result"
    }
   ],
   "source": [
    "from sklearn.model_selection import GridSearchCV\n",
    "params = {\"alpha\":np.logspace(-5, -2, 24)}\n",
    "# (モデルのインスタンス, 試したいパラメータの値, 分割方法)\n",
    "gs_rd = GridSearchCV(Lasso(), params,cv = 5)\n",
    "gs_rd.fit(X_quad, y_train)"
   ]
  },
  {
   "cell_type": "code",
   "execution_count": 21,
   "metadata": {},
   "outputs": [
    {
     "data": {
      "text/plain": [
       "0.7062355565779332"
      ]
     },
     "execution_count": 21,
     "metadata": {},
     "output_type": "execute_result"
    }
   ],
   "source": [
    "gs_rd.best_score_"
   ]
  },
  {
   "cell_type": "code",
   "execution_count": 22,
   "metadata": {},
   "outputs": [
    {
     "data": {
      "text/plain": [
       "{'alpha': 1e-05}"
      ]
     },
     "execution_count": 22,
     "metadata": {},
     "output_type": "execute_result"
    }
   ],
   "source": [
    "gs_rd.best_params_"
   ]
  },
  {
   "cell_type": "code",
   "execution_count": 23,
   "metadata": {},
   "outputs": [
    {
     "name": "stderr",
     "output_type": "stream",
     "text": [
      "/Users/itarou/anaconda3/lib/python3.6/site-packages/sklearn/utils/deprecation.py:125: FutureWarning: You are accessing a training score ('mean_train_score'), which will not be available by default any more in 0.21. If you need training scores, please set return_train_score=True\n",
      "  warnings.warn(*warn_args, **warn_kwargs)\n"
     ]
    },
    {
     "data": {
      "image/png": "[encoded data removed]",
      "text/plain": [
       "<Figure size 432x288 with 1 Axes>"
      ]
     },
     "metadata": {
      "needs_background": "light"
     },
     "output_type": "display_data"
    }
   ],
   "source": [
    "# 検証曲線\n",
    "plt.semilogx(params[\"alpha\"], gs_rd.cv_results_[\"mean_train_score\"], label=\"Training\")\n",
    "plt.semilogx(params[\"alpha\"], gs_rd.cv_results_[\"mean_test_score\"], label=\"Cross Validation\")\n",
    "plt.xlabel(\"alpha\")\n",
    "plt.ylabel(\"R2 Score\")\n",
    "plt.title(\"Validation curve / Linear Regression\")\n",
    "plt.legend()\n",
    "plt.show()"
   ]
  },
  {
   "cell_type": "code",
   "execution_count": 27,
   "metadata": {},
   "outputs": [
    {
     "name": "stdout",
     "output_type": "stream",
     "text": [
      "train RMSE:4751.203\n",
      "test  RMSE:4791.972\n"
     ]
    }
   ],
   "source": [
    "from sklearn.metrics import mean_squared_error as mse\n",
    "print('train RMSE:%.3f'%(mse(np.exp(y_train), np.exp(gs_rd.predict(X_quad))) ** (1/2)))\n",
    "Xd = pca.transform(X_test)\n",
    "X_quad_test = quad.fit_transform(Xd[:, 0:ele])\n",
    "print('test  RMSE:%.3f'%(mse(np.exp(y_test), np.exp(gs_rd.predict(X_quad_test))) ** (1/2)))"
   ]
  },
  {
   "cell_type": "code",
   "execution_count": 25,
   "metadata": {},
   "outputs": [
    {
     "name": "stdout",
     "output_type": "stream",
     "text": [
      "train RMSE:4791.972\n"
     ]
    }
   ],
   "source": []
  },
  {
   "cell_type": "code",
   "execution_count": 20,
   "metadata": {},
   "outputs": [
    {
     "data": {
      "text/plain": [
       "{'alpha': array([1.00000000e-02, 1.82334800e-02, 3.32459793e-02, 6.06189899e-02,\n",
       "        1.10529514e-01, 2.01533769e-01, 3.67466194e-01, 6.70018750e-01,\n",
       "        1.22167735e+00, 2.22754295e+00, 4.06158599e+00, 7.40568469e+00,\n",
       "        1.35031404e+01, 2.46209240e+01, 4.48925126e+01, 8.18546731e+01,\n",
       "        1.49249555e+02, 2.72133877e+02, 4.96194760e+02, 9.04735724e+02,\n",
       "        1.64964807e+03, 3.00788252e+03, 5.48441658e+03, 1.00000000e+04])}"
      ]
     },
     "execution_count": 20,
     "metadata": {},
     "output_type": "execute_result"
    }
   ],
   "source": [
    "params"
   ]
  },
  {
   "cell_type": "code",
   "execution_count": 23,
   "metadata": {},
   "outputs": [
    {
     "name": "stderr",
     "output_type": "stream",
     "text": [
      "/Users/itarou/anaconda3/lib/python3.6/site-packages/sklearn/model_selection/_split.py:652: Warning: The least populated class in y has only 1 members, which is too few. The minimum number of members in any class cannot be less than n_splits=2.\n",
      "  % (min_groups, self.n_splits)), Warning)\n",
      "/Users/itarou/anaconda3/lib/python3.6/site-packages/sklearn/model_selection/_search.py:841: DeprecationWarning: The default of the `iid` parameter will change from True to False in version 0.22 and will be removed in 0.24. This will change numeric results when test-set sizes are unequal.\n",
      "  DeprecationWarning)\n"
     ]
    },
    {
     "data": {
      "text/plain": [
       "GridSearchCV(cv=StratifiedKFold(n_splits=2, random_state=0, shuffle=True),\n",
       "       error_score='raise-deprecating',\n",
       "       estimator=Ridge(alpha=1.0, copy_X=True, fit_intercept=True, max_iter=None,\n",
       "   normalize=False, random_state=None, solver='auto', tol=0.001),\n",
       "       fit_params=None, iid='warn', n_jobs=None,\n",
       "       param_grid={'alpha': array([1.00000e-02, 1.82335e-02, 3.32460e-02, 6.06190e-02, 1.10530e-01,\n",
       "       2.01534e-01, 3.67466e-01, 6.70019e-01, 1.22168e+00, 2.22754e+00,\n",
       "       4.06159e+00, 7.40568e+00, 1.35031e+01, 2.46209e+01, 4.48925e+01,\n",
       "       8.18547e+01, 1.49250e+02, 2.72134e+02, 4.96195e+02, 9.04736e+02,\n",
       "       1.64965e+03, 3.00788e+03, 5.48442e+03, 1.00000e+04])},\n",
       "       pre_dispatch='2*n_jobs', refit=True, return_train_score='warn',\n",
       "       scoring=None, verbose=0)"
      ]
     },
     "execution_count": 23,
     "metadata": {},
     "output_type": "execute_result"
    }
   ],
   "source": [
    "gs_rd.fit(X_quad, y_train)"
   ]
  },
  {
   "cell_type": "code",
   "execution_count": 24,
   "metadata": {},
   "outputs": [
    {
     "data": {
      "text/plain": [
       "0.47296126153188517"
      ]
     },
     "execution_count": 24,
     "metadata": {},
     "output_type": "execute_result"
    }
   ],
   "source": [
    "gs_rd.best_score_"
   ]
  },
  {
   "cell_type": "code",
   "execution_count": 25,
   "metadata": {},
   "outputs": [
    {
     "data": {
      "text/plain": [
       "{'alpha': 272.13387683753086}"
      ]
     },
     "execution_count": 25,
     "metadata": {},
     "output_type": "execute_result"
    }
   ],
   "source": [
    "gs_rd.best_params_"
   ]
  },
  {
   "cell_type": "code",
   "execution_count": 171,
   "metadata": {},
   "outputs": [
    {
     "ename": "ValueError",
     "evalue": "shapes (1464,10) and (9,) not aligned: 10 (dim 1) != 9 (dim 0)",
     "output_type": "error",
     "traceback": [
      "\u001b[0;31m---------------------------------------------------------------------------\u001b[0m",
      "\u001b[0;31mValueError\u001b[0m                                Traceback (most recent call last)",
      "\u001b[0;32m<ipython-input-171-83ec5b0b1e17>\u001b[0m in \u001b[0;36m<module>\u001b[0;34m\u001b[0m\n\u001b[1;32m      1\u001b[0m \u001b[0;32mfrom\u001b[0m \u001b[0msklearn\u001b[0m\u001b[0;34m.\u001b[0m\u001b[0mmetrics\u001b[0m \u001b[0;32mimport\u001b[0m \u001b[0mmean_squared_error\u001b[0m \u001b[0;32mas\u001b[0m \u001b[0mmse\u001b[0m\u001b[0;34m\u001b[0m\u001b[0m\n\u001b[0;32m----> 2\u001b[0;31m \u001b[0mprint\u001b[0m\u001b[0;34m(\u001b[0m\u001b[0;34m'train RMSE:%.3f'\u001b[0m\u001b[0;34m%\u001b[0m\u001b[0;34m(\u001b[0m\u001b[0mmse\u001b[0m\u001b[0;34m(\u001b[0m\u001b[0my_train\u001b[0m\u001b[0;34m,\u001b[0m \u001b[0mgs_rd\u001b[0m\u001b[0;34m.\u001b[0m\u001b[0mpredict\u001b[0m\u001b[0;34m(\u001b[0m\u001b[0mX_train\u001b[0m\u001b[0;34m)\u001b[0m\u001b[0;34m)\u001b[0m \u001b[0;34m**\u001b[0m \u001b[0;34m(\u001b[0m\u001b[0;36m1\u001b[0m\u001b[0;34m/\u001b[0m\u001b[0;36m2\u001b[0m\u001b[0;34m)\u001b[0m\u001b[0;34m)\u001b[0m\u001b[0;34m)\u001b[0m\u001b[0;34m\u001b[0m\u001b[0m\n\u001b[0m",
      "\u001b[0;32m~/anaconda3/lib/python3.6/site-packages/sklearn/utils/metaestimators.py\u001b[0m in \u001b[0;36m<lambda>\u001b[0;34m(*args, **kwargs)\u001b[0m\n\u001b[1;32m    116\u001b[0m \u001b[0;34m\u001b[0m\u001b[0m\n\u001b[1;32m    117\u001b[0m         \u001b[0;31m# lambda, but not partial, allows help() to work with update_wrapper\u001b[0m\u001b[0;34m\u001b[0m\u001b[0;34m\u001b[0m\u001b[0m\n\u001b[0;32m--> 118\u001b[0;31m         \u001b[0mout\u001b[0m \u001b[0;34m=\u001b[0m \u001b[0;32mlambda\u001b[0m \u001b[0;34m*\u001b[0m\u001b[0margs\u001b[0m\u001b[0;34m,\u001b[0m \u001b[0;34m**\u001b[0m\u001b[0mkwargs\u001b[0m\u001b[0;34m:\u001b[0m \u001b[0mself\u001b[0m\u001b[0;34m.\u001b[0m\u001b[0mfn\u001b[0m\u001b[0;34m(\u001b[0m\u001b[0mobj\u001b[0m\u001b[0;34m,\u001b[0m \u001b[0;34m*\u001b[0m\u001b[0margs\u001b[0m\u001b[0;34m,\u001b[0m \u001b[0;34m**\u001b[0m\u001b[0mkwargs\u001b[0m\u001b[0;34m)\u001b[0m\u001b[0;34m\u001b[0m\u001b[0m\n\u001b[0m\u001b[1;32m    119\u001b[0m         \u001b[0;31m# update the docstring of the returned function\u001b[0m\u001b[0;34m\u001b[0m\u001b[0;34m\u001b[0m\u001b[0m\n\u001b[1;32m    120\u001b[0m         \u001b[0mupdate_wrapper\u001b[0m\u001b[0;34m(\u001b[0m\u001b[0mout\u001b[0m\u001b[0;34m,\u001b[0m \u001b[0mself\u001b[0m\u001b[0;34m.\u001b[0m\u001b[0mfn\u001b[0m\u001b[0;34m)\u001b[0m\u001b[0;34m\u001b[0m\u001b[0m\n",
      "\u001b[0;32m~/anaconda3/lib/python3.6/site-packages/sklearn/model_selection/_search.py\u001b[0m in \u001b[0;36mpredict\u001b[0;34m(self, X)\u001b[0m\n\u001b[1;32m    489\u001b[0m         \"\"\"\n\u001b[1;32m    490\u001b[0m         \u001b[0mself\u001b[0m\u001b[0;34m.\u001b[0m\u001b[0m_check_is_fitted\u001b[0m\u001b[0;34m(\u001b[0m\u001b[0;34m'predict'\u001b[0m\u001b[0;34m)\u001b[0m\u001b[0;34m\u001b[0m\u001b[0m\n\u001b[0;32m--> 491\u001b[0;31m         \u001b[0;32mreturn\u001b[0m \u001b[0mself\u001b[0m\u001b[0;34m.\u001b[0m\u001b[0mbest_estimator_\u001b[0m\u001b[0;34m.\u001b[0m\u001b[0mpredict\u001b[0m\u001b[0;34m(\u001b[0m\u001b[0mX\u001b[0m\u001b[0;34m)\u001b[0m\u001b[0;34m\u001b[0m\u001b[0m\n\u001b[0m\u001b[1;32m    492\u001b[0m \u001b[0;34m\u001b[0m\u001b[0m\n\u001b[1;32m    493\u001b[0m     \u001b[0;34m@\u001b[0m\u001b[0mif_delegate_has_method\u001b[0m\u001b[0;34m(\u001b[0m\u001b[0mdelegate\u001b[0m\u001b[0;34m=\u001b[0m\u001b[0;34m(\u001b[0m\u001b[0;34m'best_estimator_'\u001b[0m\u001b[0;34m,\u001b[0m \u001b[0;34m'estimator'\u001b[0m\u001b[0;34m)\u001b[0m\u001b[0;34m)\u001b[0m\u001b[0;34m\u001b[0m\u001b[0m\n",
      "\u001b[0;32m~/anaconda3/lib/python3.6/site-packages/sklearn/linear_model/base.py\u001b[0m in \u001b[0;36mpredict\u001b[0;34m(self, X)\u001b[0m\n\u001b[1;32m    211\u001b[0m             \u001b[0mReturns\u001b[0m \u001b[0mpredicted\u001b[0m \u001b[0mvalues\u001b[0m\u001b[0;34m.\u001b[0m\u001b[0;34m\u001b[0m\u001b[0m\n\u001b[1;32m    212\u001b[0m         \"\"\"\n\u001b[0;32m--> 213\u001b[0;31m         \u001b[0;32mreturn\u001b[0m \u001b[0mself\u001b[0m\u001b[0;34m.\u001b[0m\u001b[0m_decision_function\u001b[0m\u001b[0;34m(\u001b[0m\u001b[0mX\u001b[0m\u001b[0;34m)\u001b[0m\u001b[0;34m\u001b[0m\u001b[0m\n\u001b[0m\u001b[1;32m    214\u001b[0m \u001b[0;34m\u001b[0m\u001b[0m\n\u001b[1;32m    215\u001b[0m     \u001b[0m_preprocess_data\u001b[0m \u001b[0;34m=\u001b[0m \u001b[0mstaticmethod\u001b[0m\u001b[0;34m(\u001b[0m\u001b[0m_preprocess_data\u001b[0m\u001b[0;34m)\u001b[0m\u001b[0;34m\u001b[0m\u001b[0m\n",
      "\u001b[0;32m~/anaconda3/lib/python3.6/site-packages/sklearn/linear_model/coordinate_descent.py\u001b[0m in \u001b[0;36m_decision_function\u001b[0;34m(self, X)\u001b[0m\n\u001b[1;32m    803\u001b[0m                                    dense_output=True) + self.intercept_\n\u001b[1;32m    804\u001b[0m         \u001b[0;32melse\u001b[0m\u001b[0;34m:\u001b[0m\u001b[0;34m\u001b[0m\u001b[0m\n\u001b[0;32m--> 805\u001b[0;31m             \u001b[0;32mreturn\u001b[0m \u001b[0msuper\u001b[0m\u001b[0;34m(\u001b[0m\u001b[0mElasticNet\u001b[0m\u001b[0;34m,\u001b[0m \u001b[0mself\u001b[0m\u001b[0;34m)\u001b[0m\u001b[0;34m.\u001b[0m\u001b[0m_decision_function\u001b[0m\u001b[0;34m(\u001b[0m\u001b[0mX\u001b[0m\u001b[0;34m)\u001b[0m\u001b[0;34m\u001b[0m\u001b[0m\n\u001b[0m\u001b[1;32m    806\u001b[0m \u001b[0;34m\u001b[0m\u001b[0m\n\u001b[1;32m    807\u001b[0m \u001b[0;34m\u001b[0m\u001b[0m\n",
      "\u001b[0;32m~/anaconda3/lib/python3.6/site-packages/sklearn/linear_model/base.py\u001b[0m in \u001b[0;36m_decision_function\u001b[0;34m(self, X)\u001b[0m\n\u001b[1;32m    196\u001b[0m         \u001b[0mX\u001b[0m \u001b[0;34m=\u001b[0m \u001b[0mcheck_array\u001b[0m\u001b[0;34m(\u001b[0m\u001b[0mX\u001b[0m\u001b[0;34m,\u001b[0m \u001b[0maccept_sparse\u001b[0m\u001b[0;34m=\u001b[0m\u001b[0;34m[\u001b[0m\u001b[0;34m'csr'\u001b[0m\u001b[0;34m,\u001b[0m \u001b[0;34m'csc'\u001b[0m\u001b[0;34m,\u001b[0m \u001b[0;34m'coo'\u001b[0m\u001b[0;34m]\u001b[0m\u001b[0;34m)\u001b[0m\u001b[0;34m\u001b[0m\u001b[0m\n\u001b[1;32m    197\u001b[0m         return safe_sparse_dot(X, self.coef_.T,\n\u001b[0;32m--> 198\u001b[0;31m                                dense_output=True) + self.intercept_\n\u001b[0m\u001b[1;32m    199\u001b[0m \u001b[0;34m\u001b[0m\u001b[0m\n\u001b[1;32m    200\u001b[0m     \u001b[0;32mdef\u001b[0m \u001b[0mpredict\u001b[0m\u001b[0;34m(\u001b[0m\u001b[0mself\u001b[0m\u001b[0;34m,\u001b[0m \u001b[0mX\u001b[0m\u001b[0;34m)\u001b[0m\u001b[0;34m:\u001b[0m\u001b[0;34m\u001b[0m\u001b[0m\n",
      "\u001b[0;32m~/anaconda3/lib/python3.6/site-packages/sklearn/utils/extmath.py\u001b[0m in \u001b[0;36msafe_sparse_dot\u001b[0;34m(a, b, dense_output)\u001b[0m\n\u001b[1;32m    171\u001b[0m         \u001b[0;32mreturn\u001b[0m \u001b[0mret\u001b[0m\u001b[0;34m\u001b[0m\u001b[0m\n\u001b[1;32m    172\u001b[0m     \u001b[0;32melse\u001b[0m\u001b[0;34m:\u001b[0m\u001b[0;34m\u001b[0m\u001b[0m\n\u001b[0;32m--> 173\u001b[0;31m         \u001b[0;32mreturn\u001b[0m \u001b[0mnp\u001b[0m\u001b[0;34m.\u001b[0m\u001b[0mdot\u001b[0m\u001b[0;34m(\u001b[0m\u001b[0ma\u001b[0m\u001b[0;34m,\u001b[0m \u001b[0mb\u001b[0m\u001b[0;34m)\u001b[0m\u001b[0;34m\u001b[0m\u001b[0m\n\u001b[0m\u001b[1;32m    174\u001b[0m \u001b[0;34m\u001b[0m\u001b[0m\n\u001b[1;32m    175\u001b[0m \u001b[0;34m\u001b[0m\u001b[0m\n",
      "\u001b[0;31mValueError\u001b[0m: shapes (1464,10) and (9,) not aligned: 10 (dim 1) != 9 (dim 0)"
     ]
    }
   ],
   "source": [
    "from sklearn.metrics import mean_squared_error as mse\n",
    "print('train RMSE:%.3f'%(mse(y_train, gs_rd.predict(X_train)) ** (1/2)))"
   ]
  },
  {
   "cell_type": "code",
   "execution_count": 55,
   "metadata": {},
   "outputs": [],
   "source": [
    "def gen_cv():\n",
    "    m_train = np.floor(len(y)*0.75).astype(int)#このキャストをintにしないと後にハマる\n",
    "    train_indices = np.arange(m_train)\n",
    "    test_indices = np.arange(m_train, len(y))\n",
    "    yield (train_indices, test_indices)\n"
   ]
  },
  {
   "cell_type": "code",
   "execution_count": 57,
   "metadata": {},
   "outputs": [
    {
     "name": "stdout",
     "output_type": "stream",
     "text": [
      "訓練データ、交差検証データ、テストデータの数 = 1464 489 1953\n"
     ]
    }
   ],
   "source": [
    "print(\"訓練データ、交差検証データ、テストデータの数 = \", end=\"\")\n",
    "print(len(next(gen_cv())[0]), len(next(gen_cv())[1]), len(y) )"
   ]
  },
  {
   "cell_type": "code",
   "execution_count": 11,
   "metadata": {},
   "outputs": [],
   "source": [
    "params = {\"alpha\":np.logspace(-2, 4, 24)}"
   ]
  },
  {
   "cell_type": "code",
   "execution_count": 31,
   "metadata": {},
   "outputs": [
    {
     "name": "stdout",
     "output_type": "stream",
     "text": [
      "αのチューニング\n",
      "最適なパラメーター = {'alpha': 13.503140378698722} 精度 = 0.7607017785215663\n",
      "\n"
     ]
    }
   ],
   "source": [
    "\n",
    "gridsearch = GridSearchCV(Ridge(), params, cv=7, scoring=\"r2\", return_train_score=True)\n",
    "gridsearch.fit(X_quad, y_train)\n",
    "print(\"αのチューニング\")\n",
    "print(\"最適なパラメーター =\", gridsearch.best_params_, \"精度 =\", gridsearch.best_score_)\n",
    "print()"
   ]
  },
  {
   "cell_type": "code",
   "execution_count": 32,
   "metadata": {},
   "outputs": [
    {
     "data": {
      "image/png": "[encoded data removed]",
      "text/plain": [
       "<Figure size 432x288 with 1 Axes>"
      ]
     },
     "metadata": {
      "needs_background": "light"
     },
     "output_type": "display_data"
    }
   ],
   "source": [
    "# 検証曲線\n",
    "plt.semilogx(params[\"alpha\"], gridsearch.cv_results_[\"mean_train_score\"], label=\"Training\")\n",
    "plt.semilogx(params[\"alpha\"], gridsearch.cv_results_[\"mean_test_score\"], label=\"Cross Validation\")\n",
    "plt.xlabel(\"alpha\")\n",
    "plt.ylabel(\"R2 Score\")\n",
    "plt.title(\"Validation curve / Linear Regression\")\n",
    "plt.legend()\n",
    "plt.show()"
   ]
  },
  {
   "cell_type": "code",
   "execution_count": 33,
   "metadata": {
    "scrolled": true
   },
   "outputs": [
    {
     "name": "stdout",
     "output_type": "stream",
     "text": [
      "切片と係数\n",
      "[8810.84140616]\n",
      "[[    0.           975.61868723  -534.7486827    987.95672968\n",
      "    294.90026468   297.32550096  -708.97838838   641.92731459\n",
      "   -586.49554258  -134.62230746   173.62828839    -6.18616763\n",
      "   -802.50932155   907.26173853   -59.77720109  1068.42875021\n",
      "  -1502.59183198  1315.54665594  -644.45575826  1307.56542915\n",
      "   -746.40446004   281.1731306  -1227.9698494   -471.83483954\n",
      "   -958.30900884   820.45395341  -998.52946603  1249.03964009\n",
      "   -166.03369765  -689.2080127   1503.78403948  1479.03975725\n",
      "   2441.11462778 -1857.13379662  2782.17856386 -1873.32062419\n",
      "    614.27047206   505.72480647   -34.80194174    61.36488932\n",
      "    -17.93092706  -853.70846818   130.73357893   -85.02515077\n",
      "    436.12199372  -519.40122136   -87.41695208  -322.71064466\n",
      "    286.40080642  -881.2808357    -80.35375199    90.53676076\n",
      "     58.03867125   219.69848312   836.4958981    148.53654443\n",
      "   -449.9181621   -327.46147232  -820.25905161   -23.06219549\n",
      "    201.96038279   230.57608662  -239.16262257  -393.82047106\n",
      "   -176.87885876   450.56521887  -187.21535527   -39.14932098\n",
      "     57.45117523    60.85523594   129.12446319   124.98070296\n",
      "   -477.35982864   145.15015194   338.32071144  -145.43006124\n",
      "     -6.10515165  -462.79726094  -374.93447559  -171.48690928\n",
      "   -245.73956744    90.26576988   281.96049727  -235.11718066\n",
      "   -132.94406162   884.78169873  2367.58324596  1277.65317557\n",
      "   -972.81513487  1394.71080158  -786.9585304    460.83892281\n",
      "    209.2545022   1285.27702468  1673.66199393  -913.57316516\n",
      "     78.76706524    50.27130503  -416.38198877   740.46124025\n",
      "    242.65598601  -538.84785186  -248.99849061   168.94503107\n",
      "     73.93955379   126.86533027   298.21027818  2708.1660039\n",
      "   -286.44759323   213.6404448     28.19401546  -611.21125099\n",
      "    907.38044791  -587.80668493  -149.41973545   252.0625157\n",
      "   -596.22598951   403.79834314   372.64510068    15.23609922\n",
      "     92.8752132    -31.12417018  -231.78963334  -345.89489536\n",
      "    140.60510316  -168.88894198   -34.86760596  -165.32121956\n",
      "    394.84528916   128.35072208   317.40483618    57.21287113\n",
      "     43.03746639   199.32725931   574.18432741  -298.25246886\n",
      "   -499.60924147   369.32295047  -377.78001009   -77.75732748\n",
      "   -414.66846486   104.15433079  -238.37871815   330.705756\n",
      "    161.69226786   -32.30709268   308.15791316   143.01147339\n",
      "    152.76152314   -92.89146139   205.28745019  -195.6325574\n",
      "     13.77230153   156.77041129   566.27355133  -218.53177692\n",
      "    537.85826889    62.65263201  -535.64975915   346.0313761\n",
      "   -199.0492185     32.48636156   193.57446904   -88.05644933\n",
      "    -44.93714949   324.64192158  -162.7845577    819.42341786\n",
      "    608.56497089  -140.45730705   390.36032316   653.71112817\n",
      "    423.6822102   -264.99834995  1955.94904203  1315.39650695\n",
      "   -726.29111946    10.27620905 -1360.74438819  -766.29149366\n",
      "    720.8807391    359.8296978   -588.1200798     92.42380585\n",
      "    141.75963584   177.16404086    32.5656172    309.88079513\n",
      "    787.21125311   403.51582015  -754.68638281    53.12232733\n",
      "   -722.33834581   683.49845125    19.51750964  -316.53905629\n",
      "    477.38445064  -489.90764472   374.65937417  -209.78087003\n",
      "    488.41550322    22.50788928   642.0437857     22.23217052\n",
      "     76.89534945   725.0147934   -989.14681669 -1062.95786321\n",
      "    249.61538457   372.15934612   -30.29044162  -153.80365609\n",
      "    470.64996329  -354.72893973   103.43705346  -512.58412307\n",
      "    147.96000473   177.07266434   492.34210024   290.61644454\n",
      "    193.3250618     77.04879452  -547.82986272   -98.56603133\n",
      "     68.11386681   191.80432583   -19.97730067  -477.28311627\n",
      "   -318.92917603  -220.48788225   223.47193931   -60.82098589\n",
      "    376.36497306    82.69464322   143.69273601   342.72516318\n",
      "    187.33629785  -440.15764628  -124.36793211    14.26952163\n",
      "     89.08350913   -28.6426484    902.88281955   216.03262254\n",
      "    337.16833159  -104.96082525    72.44924083   182.40345173\n",
      "   -308.59426525   -42.52548931   -83.20957568  -100.62347863\n",
      "    339.90256303    26.42111249  -210.7236648   -203.98443545\n",
      "    580.62853332 -1022.46296966  -876.60023922   300.86696882\n",
      "     45.36818291    52.5516752     48.67530838    95.17424231\n",
      "     56.14947644   193.10223315   165.61907239   515.73944139\n",
      "   -527.66136617  -226.86062959  -176.08949974   -98.15986538\n",
      "    297.32484899   478.27873307   477.24589765   -60.42907521\n",
      "    -35.51462121    32.18623319   171.37421788   304.58360773\n",
      "   -225.95800156  -292.7059716     32.4158382   -261.79432818\n",
      "     23.04704041  -166.36540867]]\n",
      "\n",
      "テストデータにフィット\n",
      "テストデータの精度 = 0.7562647485210832\n",
      "\n",
      "※参考\n",
      "訓練データの精度 = 0.8348797601002376\n",
      "交差検証データの精度 = 0.8348797601002376\n"
     ]
    }
   ],
   "source": [
    "regr = Ridge(alpha=gridsearch.best_params_[\"alpha\"])\n",
    "regr.fit(X_quad, y_train)\n",
    "print(\"切片と係数\")\n",
    "print(regr.intercept_)\n",
    "print(regr.coef_)\n",
    "print()\n",
    "# テストデータの精度を計算\n",
    "print(\"テストデータにフィット\")\n",
    "print(\"テストデータの精度 =\", regr.score(X_quad_test, y_test))\n",
    "print()\n",
    "print(\"※参考\")\n",
    "print(\"訓練データの精度 =\", regr.score(X_quad, y_train))\n",
    "print(\"交差検証データの精度 =\", regr.score(X_quad, y_train))"
   ]
  },
  {
   "cell_type": "code",
   "execution_count": 35,
   "metadata": {},
   "outputs": [],
   "source": [
    "X_pca_test = pca.transform(X_test)"
   ]
  },
  {
   "cell_type": "code",
   "execution_count": 41,
   "metadata": {
    "collapsed": true
   },
   "outputs": [
    {
     "name": "stderr",
     "output_type": "stream",
     "text": [
      "/Users/itarou/anaconda3/lib/python3.6/site-packages/sklearn/utils/validation.py:761: DataConversionWarning: A column-vector y was passed when a 1d array was expected. Please change the shape of y to (n_samples, ), for example using ravel().\n",
      "  y = column_or_1d(y, warn=True)\n",
      "/Users/itarou/anaconda3/lib/python3.6/site-packages/sklearn/utils/validation.py:761: DataConversionWarning: A column-vector y was passed when a 1d array was expected. Please change the shape of y to (n_samples, ), for example using ravel().\n",
      "  y = column_or_1d(y, warn=True)\n",
      "/Users/itarou/anaconda3/lib/python3.6/site-packages/sklearn/utils/validation.py:761: DataConversionWarning: A column-vector y was passed when a 1d array was expected. Please change the shape of y to (n_samples, ), for example using ravel().\n",
      "  y = column_or_1d(y, warn=True)\n",
      "/Users/itarou/anaconda3/lib/python3.6/site-packages/sklearn/utils/validation.py:761: DataConversionWarning: A column-vector y was passed when a 1d array was expected. Please change the shape of y to (n_samples, ), for example using ravel().\n",
      "  y = column_or_1d(y, warn=True)\n",
      "/Users/itarou/anaconda3/lib/python3.6/site-packages/sklearn/utils/validation.py:761: DataConversionWarning: A column-vector y was passed when a 1d array was expected. Please change the shape of y to (n_samples, ), for example using ravel().\n",
      "  y = column_or_1d(y, warn=True)\n",
      "/Users/itarou/anaconda3/lib/python3.6/site-packages/sklearn/utils/validation.py:761: DataConversionWarning: A column-vector y was passed when a 1d array was expected. Please change the shape of y to (n_samples, ), for example using ravel().\n",
      "  y = column_or_1d(y, warn=True)\n",
      "/Users/itarou/anaconda3/lib/python3.6/site-packages/sklearn/utils/validation.py:761: DataConversionWarning: A column-vector y was passed when a 1d array was expected. Please change the shape of y to (n_samples, ), for example using ravel().\n",
      "  y = column_or_1d(y, warn=True)\n",
      "/Users/itarou/anaconda3/lib/python3.6/site-packages/sklearn/utils/validation.py:761: DataConversionWarning: A column-vector y was passed when a 1d array was expected. Please change the shape of y to (n_samples, ), for example using ravel().\n",
      "  y = column_or_1d(y, warn=True)\n",
      "/Users/itarou/anaconda3/lib/python3.6/site-packages/sklearn/utils/validation.py:761: DataConversionWarning: A column-vector y was passed when a 1d array was expected. Please change the shape of y to (n_samples, ), for example using ravel().\n",
      "  y = column_or_1d(y, warn=True)\n",
      "/Users/itarou/anaconda3/lib/python3.6/site-packages/sklearn/utils/validation.py:761: DataConversionWarning: A column-vector y was passed when a 1d array was expected. Please change the shape of y to (n_samples, ), for example using ravel().\n",
      "  y = column_or_1d(y, warn=True)\n",
      "/Users/itarou/anaconda3/lib/python3.6/site-packages/sklearn/utils/validation.py:761: DataConversionWarning: A column-vector y was passed when a 1d array was expected. Please change the shape of y to (n_samples, ), for example using ravel().\n",
      "  y = column_or_1d(y, warn=True)\n",
      "/Users/itarou/anaconda3/lib/python3.6/site-packages/sklearn/utils/validation.py:761: DataConversionWarning: A column-vector y was passed when a 1d array was expected. Please change the shape of y to (n_samples, ), for example using ravel().\n",
      "  y = column_or_1d(y, warn=True)\n",
      "/Users/itarou/anaconda3/lib/python3.6/site-packages/sklearn/utils/validation.py:761: DataConversionWarning: A column-vector y was passed when a 1d array was expected. Please change the shape of y to (n_samples, ), for example using ravel().\n",
      "  y = column_or_1d(y, warn=True)\n",
      "/Users/itarou/anaconda3/lib/python3.6/site-packages/sklearn/utils/validation.py:761: DataConversionWarning: A column-vector y was passed when a 1d array was expected. Please change the shape of y to (n_samples, ), for example using ravel().\n",
      "  y = column_or_1d(y, warn=True)\n",
      "/Users/itarou/anaconda3/lib/python3.6/site-packages/sklearn/utils/validation.py:761: DataConversionWarning: A column-vector y was passed when a 1d array was expected. Please change the shape of y to (n_samples, ), for example using ravel().\n",
      "  y = column_or_1d(y, warn=True)\n",
      "/Users/itarou/anaconda3/lib/python3.6/site-packages/sklearn/utils/validation.py:761: DataConversionWarning: A column-vector y was passed when a 1d array was expected. Please change the shape of y to (n_samples, ), for example using ravel().\n",
      "  y = column_or_1d(y, warn=True)\n",
      "/Users/itarou/anaconda3/lib/python3.6/site-packages/sklearn/utils/validation.py:761: DataConversionWarning: A column-vector y was passed when a 1d array was expected. Please change the shape of y to (n_samples, ), for example using ravel().\n",
      "  y = column_or_1d(y, warn=True)\n",
      "/Users/itarou/anaconda3/lib/python3.6/site-packages/sklearn/utils/validation.py:761: DataConversionWarning: A column-vector y was passed when a 1d array was expected. Please change the shape of y to (n_samples, ), for example using ravel().\n",
      "  y = column_or_1d(y, warn=True)\n",
      "/Users/itarou/anaconda3/lib/python3.6/site-packages/sklearn/utils/validation.py:761: DataConversionWarning: A column-vector y was passed when a 1d array was expected. Please change the shape of y to (n_samples, ), for example using ravel().\n",
      "  y = column_or_1d(y, warn=True)\n",
      "/Users/itarou/anaconda3/lib/python3.6/site-packages/sklearn/utils/validation.py:761: DataConversionWarning: A column-vector y was passed when a 1d array was expected. Please change the shape of y to (n_samples, ), for example using ravel().\n",
      "  y = column_or_1d(y, warn=True)\n",
      "/Users/itarou/anaconda3/lib/python3.6/site-packages/sklearn/utils/validation.py:761: DataConversionWarning: A column-vector y was passed when a 1d array was expected. Please change the shape of y to (n_samples, ), for example using ravel().\n",
      "  y = column_or_1d(y, warn=True)\n"
     ]
    },
    {
     "name": "stdout",
     "output_type": "stream",
     "text": [
      "C, εのチューニング\n",
      "最適なパラメーター = {'C': 20000, 'gamma': 0.001}\n",
      "精度 = 0.6326225000793771\n",
      "\n"
     ]
    }
   ],
   "source": [
    "from sklearn.svm import SVR\n",
    "\n",
    "# ハイパーパラメータのチューニング\n",
    "params_cnt = 20\n",
    "#params = {\"C\":np.logspace(10,100,params_cnt), \"epsilon\":np.logspace(-1,1,params_cnt)}\n",
    "params={'C': [20000,30000],'gamma': [0.001,0.0001]}\n",
    "gridsearch = GridSearchCV(SVR(kernel=\"linear\"), params, cv=5, scoring=\"r2\", return_train_score=True)\n",
    "gridsearch.fit(X_pca[:, 0:ele], y_train)\n",
    "print(\"C, εのチューニング\")\n",
    "print(\"最適なパラメーター =\", gridsearch.best_params_)\n",
    "print(\"精度 =\", gridsearch.best_score_)\n",
    "print()"
   ]
  },
  {
   "cell_type": "code",
   "execution_count": 40,
   "metadata": {},
   "outputs": [
    {
     "name": "stderr",
     "output_type": "stream",
     "text": [
      "/Users/itarou/anaconda3/lib/python3.6/site-packages/sklearn/utils/validation.py:761: DataConversionWarning: A column-vector y was passed when a 1d array was expected. Please change the shape of y to (n_samples, ), for example using ravel().\n",
      "  y = column_or_1d(y, warn=True)\n"
     ]
    },
    {
     "name": "stdout",
     "output_type": "stream",
     "text": [
      "切片と係数\n",
      "[10095.29300296]\n",
      "[[1964.94885791 3218.08729977  -83.77765422  203.74846863  203.10907717\n",
      "  -645.38307754 -319.8355835    33.3100299   486.47719769 -149.95126894\n",
      "   407.17652111 1442.49871392 -573.64824794  425.13977981  689.92870311\n",
      "  -144.09130722]]\n",
      "\n",
      "テストデータにフィット\n",
      "テストデータの精度 = 0.65685525050342\n",
      "\n",
      "※参考\n",
      "訓練データの精度 = 0.6874469497834126\n"
     ]
    }
   ],
   "source": [
    "regr = SVR(kernel=\"linear\", C=gridsearch.best_params_[\"C\"], epsilon=gridsearch.best_params_[\"gamma\"])\n",
    "regr.fit(X_train, y_train)\n",
    "print(\"切片と係数\")\n",
    "print(regr.intercept_)\n",
    "print(regr.coef_)\n",
    "print()\n",
    "# テストデータの精度を計算\n",
    "print(\"テストデータにフィット\")\n",
    "print(\"テストデータの精度 =\", regr.score(X_test, y_test))\n",
    "print()\n",
    "print(\"※参考\")\n",
    "print(\"訓練データの精度 =\", regr.score(X_train, y_train))\n",
    "#print(\"交差検証データの精度 =\", regr.score(X_norm[valid_indices, :], y[valid_indices]))\n"
   ]
  },
  {
   "cell_type": "code",
   "execution_count": 97,
   "metadata": {},
   "outputs": [
    {
     "name": "stdout",
     "output_type": "stream",
     "text": [
      "train RMSE:4926.117\n"
     ]
    }
   ],
   "source": [
    "from sklearn.metrics import mean_squared_error as mse\n",
    "print('train RMSE:%.3f'%(mse(y_train, regr.predict(X_train)) ** (1/2)))"
   ]
  },
  {
   "cell_type": "code",
   "execution_count": null,
   "metadata": {},
   "outputs": [],
   "source": []
  }
 ],
 "metadata": {
  "kernelspec": {
   "display_name": "Python 3",
   "language": "python",
   "name": "python3"
  },
  "language_info": {
   "codemirror_mode": {
    "name": "ipython",
    "version": 3
   },
   "file_extension": ".py",
   "mimetype": "text/x-python",
   "name": "python",
   "nbconvert_exporter": "python",
   "pygments_lexer": "ipython3",
   "version": "3.6.6"
  }
 },
 "nbformat": 4,
 "nbformat_minor": 2
}
