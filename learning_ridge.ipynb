{
 "cells": [
  {
   "cell_type": "code",
   "execution_count": 33,
   "metadata": {},
   "outputs": [],
   "source": [
    "# 必要なライブラリを読み込み\n",
    "import numpy as np\n",
    "import pandas as pd\n",
    "import matplotlib.pyplot as plt\n",
    "import seaborn as sns\n",
    "%matplotlib inline"
   ]
  },
  {
   "cell_type": "code",
   "execution_count": 34,
   "metadata": {},
   "outputs": [
    {
     "data": {
      "text/plain": [
       "Index(['stage', 'total_p_score', 'capa', 'distance(min)', 'home rank',\n",
       "       'area rank', 'rerative distance', 'away rank', 'id', 'holiday',\n",
       "       'weather rank', 'month', 'match day'],\n",
       "      dtype='object')"
      ]
     },
     "execution_count": 34,
     "metadata": {},
     "output_type": "execute_result"
    }
   ],
   "source": [
    "#前処理したデータを読み込み\n",
    "#train = pd.read_csv('edited_train.csv').drop([\"SOR\"],axis = 1)\n",
    "train = pd.read_csv('edited_train.csv').drop([\"y\", \"year\", 'hokkaido','kansai', 'disconfort', 'kantou', 'temperature', 'humidity',  'kyusyu','shikoku', 'tohoku', 'tyubu', 'tyugoku','stadium',\"home area\",\"away area\"],axis = 1)\n",
    "test = pd.read_csv('edited_test.csv').drop([ \"year\", 'hokkaido','kansai', 'disconfort', 'kantou', 'temperature', 'humidity',  'kyusyu','shikoku', 'tohoku', 'tyubu', 'tyugoku','stadium',\"home area\",\"away area\"],axis = 1)\n",
    "#data1.head(10)\n",
    "top6_index=train.corr()['logy'].abs().nlargest(15).index \n",
    "top6_index[1:]"
   ]
  },
  {
   "cell_type": "code",
   "execution_count": 76,
   "metadata": {},
   "outputs": [
    {
     "name": "stderr",
     "output_type": "stream",
     "text": [
      "/Users/itarou/anaconda3/lib/python3.6/site-packages/sklearn/preprocessing/data.py:625: DataConversionWarning: Data with input dtype int64, float64 were all converted to float64 by StandardScaler.\n",
      "  return self.partial_fit(X, y)\n",
      "/Users/itarou/anaconda3/lib/python3.6/site-packages/sklearn/base.py:462: DataConversionWarning: Data with input dtype int64, float64 were all converted to float64 by StandardScaler.\n",
      "  return self.fit(X, **fit_params).transform(X)\n",
      "/Users/itarou/anaconda3/lib/python3.6/site-packages/sklearn/preprocessing/data.py:625: DataConversionWarning: Data with input dtype int64, float64 were all converted to float64 by StandardScaler.\n",
      "  return self.partial_fit(X, y)\n",
      "/Users/itarou/anaconda3/lib/python3.6/site-packages/sklearn/base.py:462: DataConversionWarning: Data with input dtype int64, float64 were all converted to float64 by StandardScaler.\n",
      "  return self.fit(X, **fit_params).transform(X)\n"
     ]
    }
   ],
   "source": [
    "# データの標準化\n",
    "from sklearn.preprocessing import StandardScaler\n",
    "from sklearn.model_selection import train_test_split\n",
    "#X = train.loc[:,top6_index[1:]].drop([\"month\", 'accessibility'],axis=1)\n",
    "#testX = test.loc[:,top6_index[1:]].drop([\"month\", 'accessibility'],axis=1)\n",
    "X = train.loc[:,top6_index[1:]].drop([\"month\",\"id\"],axis=1)\n",
    "testX = test.loc[:,top6_index[1:]].drop([\"month\",\"id\"],axis=1)\n",
    "\n",
    "#X = train.loc[:,['stage', 'total_p_score', 'capa', 'distance(min)','home rank', 'area rank', 'rerative distance', 'away rank','weather rank', 'match day']]\n",
    "y = train.loc[:,[\"logy\"]].values.reshape(-1)\n",
    "\n",
    "scaler = StandardScaler()\n",
    "X_std = scaler.fit_transform(X) # Xを標準化した行列を生成\n",
    "testX_std = scaler.fit_transform(testX)\n",
    "X_train, X_test, y_train, y_test = train_test_split(X_std, y, test_size = 0.25, random_state = 4903)"
   ]
  },
  {
   "cell_type": "code",
   "execution_count": 77,
   "metadata": {},
   "outputs": [],
   "source": [
    "# 2次関数の変数変換\n",
    "from sklearn.preprocessing import PolynomialFeatures\n",
    "# 2次の多項式規定を生成\n",
    "quad = PolynomialFeatures(degree=3)\n",
    "# 生成した基底関数で変数変換を実行\n",
    "X_quad = quad.fit_transform(X_train)"
   ]
  },
  {
   "cell_type": "code",
   "execution_count": 78,
   "metadata": {},
   "outputs": [
    {
     "data": {
      "text/plain": [
       "Ridge(alpha=11.05295141126021, copy_X=True, fit_intercept=True, max_iter=None,\n",
       "   normalize=False, random_state=None, solver='auto', tol=0.001)"
      ]
     },
     "execution_count": 78,
     "metadata": {},
     "output_type": "execute_result"
    }
   ],
   "source": [
    "# Ridge回帰のクラスを読み込み\n",
    "from sklearn.linear_model import Ridge\n",
    "# Ridge回帰のインスタンスを生成\n",
    "model_ridge = Ridge(alpha=11.05295141126021)\n",
    "# データを学習させる\n",
    "model_ridge.fit(X_quad, y_train)"
   ]
  },
  {
   "cell_type": "code",
   "execution_count": 86,
   "metadata": {},
   "outputs": [
    {
     "name": "stdout",
     "output_type": "stream",
     "text": [
      "train RMSE:2860.715\n",
      "train RMSE:3858.396\n"
     ]
    }
   ],
   "source": [
    "from sklearn.metrics import mean_squared_error as mse\n",
    "print('train RMSE:%.3f'%(mse(np.exp(y_train), np.exp(model_ridge.predict(X_quad))) ** (1/2)))\n",
    "X_quad_test = quad.fit_transform(X_test)\n",
    "print('train RMSE:%.3f'%(mse(np.exp(y_test), np.exp(model_ridge.predict(X_quad_test))) ** (1/2)))"
   ]
  },
  {
   "cell_type": "code",
   "execution_count": 80,
   "metadata": {},
   "outputs": [
    {
     "name": "stdout",
     "output_type": "stream",
     "text": [
      "train RMSE:3858.396\n"
     ]
    }
   ],
   "source": [
    "31283531833"
   ]
  },
  {
   "cell_type": "code",
   "execution_count": 81,
   "metadata": {},
   "outputs": [
    {
     "data": {
      "text/plain": [
       "GridSearchCV(cv=5, error_score='raise-deprecating',\n",
       "       estimator=Ridge(alpha=1.0, copy_X=True, fit_intercept=True, max_iter=None,\n",
       "   normalize=False, random_state=None, solver='auto', tol=0.001),\n",
       "       fit_params=None, iid='warn', n_jobs=None,\n",
       "       param_grid={'alpha': array([   100.     ,    135.0314 ,    182.3348 ,    246.20924,\n",
       "          332.45979,    448.92513,    606.1899 ,    818.54673,\n",
       "         1105.29514,   1492.49555,   2015.33769,   2721.33877,\n",
       "         3674.66194,   4961.9476 ,   6700.1875 ,   9047.35724,\n",
       "        12216.77349,  16496.48074,  22275.42952,  30078.82518,\n",
       "        40615.85988,  54844.16576,  74056.84692, 100000.     ])},\n",
       "       pre_dispatch='2*n_jobs', refit=True, return_train_score='warn',\n",
       "       scoring=None, verbose=0)"
      ]
     },
     "execution_count": 81,
     "metadata": {},
     "output_type": "execute_result"
    }
   ],
   "source": [
    "from sklearn.model_selection import GridSearchCV\n",
    "params = {\"alpha\":np.logspace(2, 5, 24)}\n",
    "# (モデルのインスタンス, 試したいパラメータの値, 分割方法)\n",
    "gs_rd = GridSearchCV(Ridge(), params,cv = 5)\n",
    "gs_rd.fit(X_quad, y_train)"
   ]
  },
  {
   "cell_type": "code",
   "execution_count": 82,
   "metadata": {},
   "outputs": [
    {
     "data": {
      "text/plain": [
       "0.7830541943896352"
      ]
     },
     "execution_count": 82,
     "metadata": {},
     "output_type": "execute_result"
    }
   ],
   "source": [
    "gs_rd.best_score_"
   ]
  },
  {
   "cell_type": "code",
   "execution_count": 83,
   "metadata": {},
   "outputs": [
    {
     "data": {
      "text/plain": [
       "{'alpha': 135.03140378698737}"
      ]
     },
     "execution_count": 83,
     "metadata": {},
     "output_type": "execute_result"
    }
   ],
   "source": [
    "gs_rd.best_params_"
   ]
  },
  {
   "cell_type": "code",
   "execution_count": 84,
   "metadata": {},
   "outputs": [
    {
     "name": "stdout",
     "output_type": "stream",
     "text": [
      "train RMSE:3154.992\n",
      "test RMSE:3949.681\n"
     ]
    }
   ],
   "source": [
    "from sklearn.metrics import mean_squared_error as mse\n",
    "print('train RMSE:%.3f'%(mse(np.exp(y_train), np.exp(gs_rd.predict(X_quad))) ** (1/2)))\n",
    "X_quad_test = quad.fit_transform(X_test)\n",
    "print('test RMSE:%.3f'%(mse(np.exp(y_test), np.exp(gs_rd.predict(X_quad_test))) ** (1/2)))"
   ]
  },
  {
   "cell_type": "code",
   "execution_count": 85,
   "metadata": {},
   "outputs": [
    {
     "name": "stderr",
     "output_type": "stream",
     "text": [
      "/Users/itarou/anaconda3/lib/python3.6/site-packages/sklearn/utils/deprecation.py:125: FutureWarning: You are accessing a training score ('mean_train_score'), which will not be available by default any more in 0.21. If you need training scores, please set return_train_score=True\n",
      "  warnings.warn(*warn_args, **warn_kwargs)\n"
     ]
    },
    {
     "data": {
      "image/png": "[encoded data removed]",
      "text/plain": [
       "<Figure size 432x288 with 1 Axes>"
      ]
     },
     "metadata": {
      "needs_background": "light"
     },
     "output_type": "display_data"
    }
   ],
   "source": [
    "# 検証曲線\n",
    "plt.semilogx(params[\"alpha\"], gs_rd.cv_results_[\"mean_train_score\"], label=\"Training\")\n",
    "plt.semilogx(params[\"alpha\"], gs_rd.cv_results_[\"mean_test_score\"], label=\"Cross Validation\")\n",
    "plt.xlabel(\"alpha\")\n",
    "plt.ylabel(\"R2 Score\")\n",
    "plt.title(\"Validation curve / Linear Regression\")\n",
    "plt.legend()\n",
    "plt.show()"
   ]
  },
  {
   "cell_type": "code",
   "execution_count": 87,
   "metadata": {},
   "outputs": [
    {
     "name": "stdout",
     "output_type": "stream",
     "text": [
      "訓練データ、交差検証データ、テストデータの数 = "
     ]
    },
    {
     "ename": "NameError",
     "evalue": "name 'gen_cv' is not defined",
     "output_type": "error",
     "traceback": [
      "\u001b[0;31m---------------------------------------------------------------------------\u001b[0m",
      "\u001b[0;31mNameError\u001b[0m                                 Traceback (most recent call last)",
      "\u001b[0;32m<ipython-input-87-a98c7e842016>\u001b[0m in \u001b[0;36m<module>\u001b[0;34m\u001b[0m\n\u001b[1;32m      1\u001b[0m \u001b[0mprint\u001b[0m\u001b[0;34m(\u001b[0m\u001b[0;34m\"訓練データ、交差検証データ、テストデータの数 = \"\u001b[0m\u001b[0;34m,\u001b[0m \u001b[0mend\u001b[0m\u001b[0;34m=\u001b[0m\u001b[0;34m\"\"\u001b[0m\u001b[0;34m)\u001b[0m\u001b[0;34m\u001b[0m\u001b[0m\n\u001b[0;32m----> 2\u001b[0;31m \u001b[0mprint\u001b[0m\u001b[0;34m(\u001b[0m\u001b[0mlen\u001b[0m\u001b[0;34m(\u001b[0m\u001b[0mnext\u001b[0m\u001b[0;34m(\u001b[0m\u001b[0mgen_cv\u001b[0m\u001b[0;34m(\u001b[0m\u001b[0;34m)\u001b[0m\u001b[0;34m)\u001b[0m\u001b[0;34m[\u001b[0m\u001b[0;36m0\u001b[0m\u001b[0;34m]\u001b[0m\u001b[0;34m)\u001b[0m\u001b[0;34m,\u001b[0m \u001b[0mlen\u001b[0m\u001b[0;34m(\u001b[0m\u001b[0mnext\u001b[0m\u001b[0;34m(\u001b[0m\u001b[0mgen_cv\u001b[0m\u001b[0;34m(\u001b[0m\u001b[0;34m)\u001b[0m\u001b[0;34m)\u001b[0m\u001b[0;34m[\u001b[0m\u001b[0;36m1\u001b[0m\u001b[0;34m]\u001b[0m\u001b[0;34m)\u001b[0m\u001b[0;34m,\u001b[0m \u001b[0mlen\u001b[0m\u001b[0;34m(\u001b[0m\u001b[0my\u001b[0m\u001b[0;34m)\u001b[0m \u001b[0;34m)\u001b[0m\u001b[0;34m\u001b[0m\u001b[0m\n\u001b[0m",
      "\u001b[0;31mNameError\u001b[0m: name 'gen_cv' is not defined"
     ]
    }
   ],
   "source": [
    "print(\"訓練データ、交差検証データ、テストデータの数 = \", end=\"\")\n",
    "print(len(next(gen_cv())[0]), len(next(gen_cv())[1]), len(y) )"
   ]
  },
  {
   "cell_type": "code",
   "execution_count": 24,
   "metadata": {},
   "outputs": [],
   "source": [
    "params = {\"alpha\":np.logspace(-2, 4, 24)}"
   ]
  },
  {
   "cell_type": "code",
   "execution_count": 25,
   "metadata": {},
   "outputs": [
    {
     "ename": "NameError",
     "evalue": "name 'GridSearchCV' is not defined",
     "output_type": "error",
     "traceback": [
      "\u001b[0;31m---------------------------------------------------------------------------\u001b[0m",
      "\u001b[0;31mNameError\u001b[0m                                 Traceback (most recent call last)",
      "\u001b[0;32m<ipython-input-25-278414d66920>\u001b[0m in \u001b[0;36m<module>\u001b[0;34m\u001b[0m\n\u001b[1;32m      1\u001b[0m \u001b[0;34m\u001b[0m\u001b[0m\n\u001b[0;32m----> 2\u001b[0;31m \u001b[0mgridsearch\u001b[0m \u001b[0;34m=\u001b[0m \u001b[0mGridSearchCV\u001b[0m\u001b[0;34m(\u001b[0m\u001b[0mRidge\u001b[0m\u001b[0;34m(\u001b[0m\u001b[0;34m)\u001b[0m\u001b[0;34m,\u001b[0m \u001b[0mparams\u001b[0m\u001b[0;34m,\u001b[0m \u001b[0mcv\u001b[0m\u001b[0;34m=\u001b[0m\u001b[0;36m7\u001b[0m\u001b[0;34m,\u001b[0m \u001b[0mscoring\u001b[0m\u001b[0;34m=\u001b[0m\u001b[0;34m\"r2\"\u001b[0m\u001b[0;34m,\u001b[0m \u001b[0mreturn_train_score\u001b[0m\u001b[0;34m=\u001b[0m\u001b[0;32mTrue\u001b[0m\u001b[0;34m)\u001b[0m\u001b[0;34m\u001b[0m\u001b[0m\n\u001b[0m\u001b[1;32m      3\u001b[0m \u001b[0mgridsearch\u001b[0m\u001b[0;34m.\u001b[0m\u001b[0mfit\u001b[0m\u001b[0;34m(\u001b[0m\u001b[0mX_quad\u001b[0m\u001b[0;34m,\u001b[0m \u001b[0my_train\u001b[0m\u001b[0;34m)\u001b[0m\u001b[0;34m\u001b[0m\u001b[0m\n\u001b[1;32m      4\u001b[0m \u001b[0mprint\u001b[0m\u001b[0;34m(\u001b[0m\u001b[0;34m\"αのチューニング\"\u001b[0m\u001b[0;34m)\u001b[0m\u001b[0;34m\u001b[0m\u001b[0m\n\u001b[1;32m      5\u001b[0m \u001b[0mprint\u001b[0m\u001b[0;34m(\u001b[0m\u001b[0;34m\"最適なパラメーター =\"\u001b[0m\u001b[0;34m,\u001b[0m \u001b[0mgridsearch\u001b[0m\u001b[0;34m.\u001b[0m\u001b[0mbest_params_\u001b[0m\u001b[0;34m,\u001b[0m \u001b[0;34m\"精度 =\"\u001b[0m\u001b[0;34m,\u001b[0m \u001b[0mgridsearch\u001b[0m\u001b[0;34m.\u001b[0m\u001b[0mbest_score_\u001b[0m\u001b[0;34m)\u001b[0m\u001b[0;34m\u001b[0m\u001b[0m\n",
      "\u001b[0;31mNameError\u001b[0m: name 'GridSearchCV' is not defined"
     ]
    }
   ],
   "source": [
    "\n",
    "gridsearch = GridSearchCV(Ridge(), params, cv=7, scoring=\"r2\", return_train_score=True)\n",
    "gridsearch.fit(X_quad, y_train)\n",
    "print(\"αのチューニング\")\n",
    "print(\"最適なパラメーター =\", gridsearch.best_params_, \"精度 =\", gridsearch.best_score_)\n",
    "print()"
   ]
  },
  {
   "cell_type": "code",
   "execution_count": 33,
   "metadata": {},
   "outputs": [
    {
     "name": "stdout",
     "output_type": "stream",
     "text": [
      "切片と係数\n",
      "[8810.84140616]\n",
      "[[    0.           975.61868723  -534.7486827    987.95672968\n",
      "    294.90026468   297.32550096  -708.97838838   641.92731459\n",
      "   -586.49554258  -134.62230746   173.62828839    -6.18616763\n",
      "   -802.50932155   907.26173853   -59.77720109  1068.42875021\n",
      "  -1502.59183198  1315.54665594  -644.45575826  1307.56542915\n",
      "   -746.40446004   281.1731306  -1227.9698494   -471.83483954\n",
      "   -958.30900884   820.45395341  -998.52946603  1249.03964009\n",
      "   -166.03369765  -689.2080127   1503.78403948  1479.03975725\n",
      "   2441.11462778 -1857.13379662  2782.17856386 -1873.32062419\n",
      "    614.27047206   505.72480647   -34.80194174    61.36488932\n",
      "    -17.93092706  -853.70846818   130.73357893   -85.02515077\n",
      "    436.12199372  -519.40122136   -87.41695208  -322.71064466\n",
      "    286.40080642  -881.2808357    -80.35375199    90.53676076\n",
      "     58.03867125   219.69848312   836.4958981    148.53654443\n",
      "   -449.9181621   -327.46147232  -820.25905161   -23.06219549\n",
      "    201.96038279   230.57608662  -239.16262257  -393.82047106\n",
      "   -176.87885876   450.56521887  -187.21535527   -39.14932098\n",
      "     57.45117523    60.85523594   129.12446319   124.98070296\n",
      "   -477.35982864   145.15015194   338.32071144  -145.43006124\n",
      "     -6.10515165  -462.79726094  -374.93447559  -171.48690928\n",
      "   -245.73956744    90.26576988   281.96049727  -235.11718066\n",
      "   -132.94406162   884.78169873  2367.58324596  1277.65317557\n",
      "   -972.81513487  1394.71080158  -786.9585304    460.83892281\n",
      "    209.2545022   1285.27702468  1673.66199393  -913.57316516\n",
      "     78.76706524    50.27130503  -416.38198877   740.46124025\n",
      "    242.65598601  -538.84785186  -248.99849061   168.94503107\n",
      "     73.93955379   126.86533027   298.21027818  2708.1660039\n",
      "   -286.44759323   213.6404448     28.19401546  -611.21125099\n",
      "    907.38044791  -587.80668493  -149.41973545   252.0625157\n",
      "   -596.22598951   403.79834314   372.64510068    15.23609922\n",
      "     92.8752132    -31.12417018  -231.78963334  -345.89489536\n",
      "    140.60510316  -168.88894198   -34.86760596  -165.32121956\n",
      "    394.84528916   128.35072208   317.40483618    57.21287113\n",
      "     43.03746639   199.32725931   574.18432741  -298.25246886\n",
      "   -499.60924147   369.32295047  -377.78001009   -77.75732748\n",
      "   -414.66846486   104.15433079  -238.37871815   330.705756\n",
      "    161.69226786   -32.30709268   308.15791316   143.01147339\n",
      "    152.76152314   -92.89146139   205.28745019  -195.6325574\n",
      "     13.77230153   156.77041129   566.27355133  -218.53177692\n",
      "    537.85826889    62.65263201  -535.64975915   346.0313761\n",
      "   -199.0492185     32.48636156   193.57446904   -88.05644933\n",
      "    -44.93714949   324.64192158  -162.7845577    819.42341786\n",
      "    608.56497089  -140.45730705   390.36032316   653.71112817\n",
      "    423.6822102   -264.99834995  1955.94904203  1315.39650695\n",
      "   -726.29111946    10.27620905 -1360.74438819  -766.29149366\n",
      "    720.8807391    359.8296978   -588.1200798     92.42380585\n",
      "    141.75963584   177.16404086    32.5656172    309.88079513\n",
      "    787.21125311   403.51582015  -754.68638281    53.12232733\n",
      "   -722.33834581   683.49845125    19.51750964  -316.53905629\n",
      "    477.38445064  -489.90764472   374.65937417  -209.78087003\n",
      "    488.41550322    22.50788928   642.0437857     22.23217052\n",
      "     76.89534945   725.0147934   -989.14681669 -1062.95786321\n",
      "    249.61538457   372.15934612   -30.29044162  -153.80365609\n",
      "    470.64996329  -354.72893973   103.43705346  -512.58412307\n",
      "    147.96000473   177.07266434   492.34210024   290.61644454\n",
      "    193.3250618     77.04879452  -547.82986272   -98.56603133\n",
      "     68.11386681   191.80432583   -19.97730067  -477.28311627\n",
      "   -318.92917603  -220.48788225   223.47193931   -60.82098589\n",
      "    376.36497306    82.69464322   143.69273601   342.72516318\n",
      "    187.33629785  -440.15764628  -124.36793211    14.26952163\n",
      "     89.08350913   -28.6426484    902.88281955   216.03262254\n",
      "    337.16833159  -104.96082525    72.44924083   182.40345173\n",
      "   -308.59426525   -42.52548931   -83.20957568  -100.62347863\n",
      "    339.90256303    26.42111249  -210.7236648   -203.98443545\n",
      "    580.62853332 -1022.46296966  -876.60023922   300.86696882\n",
      "     45.36818291    52.5516752     48.67530838    95.17424231\n",
      "     56.14947644   193.10223315   165.61907239   515.73944139\n",
      "   -527.66136617  -226.86062959  -176.08949974   -98.15986538\n",
      "    297.32484899   478.27873307   477.24589765   -60.42907521\n",
      "    -35.51462121    32.18623319   171.37421788   304.58360773\n",
      "   -225.95800156  -292.7059716     32.4158382   -261.79432818\n",
      "     23.04704041  -166.36540867]]\n",
      "\n",
      "テストデータにフィット\n",
      "テストデータの精度 = 0.7562647485210832\n",
      "\n",
      "※参考\n",
      "訓練データの精度 = 0.8348797601002376\n",
      "交差検証データの精度 = 0.8348797601002376\n"
     ]
    }
   ],
   "source": [
    "regr = Ridge(alpha=gridsearch.best_params_[\"alpha\"])\n",
    "regr.fit(X_quad, y_train)\n",
    "print(\"切片と係数\")\n",
    "print(regr.intercept_)\n",
    "print(regr.coef_)\n",
    "print()\n",
    "# テストデータの精度を計算\n",
    "print(\"テストデータにフィット\")\n",
    "print(\"テストデータの精度 =\", regr.score(X_quad_test, y_test))\n",
    "print()\n",
    "print(\"※参考\")\n",
    "print(\"訓練データの精度 =\", regr.score(X_quad, y_train))\n",
    "print(\"交差検証データの精度 =\", regr.score(X_quad, y_train))"
   ]
  },
  {
   "cell_type": "code",
   "execution_count": 35,
   "metadata": {},
   "outputs": [],
   "source": [
    "X_pca_test = pca.transform(X_test)"
   ]
  },
  {
   "cell_type": "code",
   "execution_count": 41,
   "metadata": {},
   "outputs": [
    {
     "name": "stderr",
     "output_type": "stream",
     "text": [
      "/Users/itarou/anaconda3/lib/python3.6/site-packages/sklearn/utils/validation.py:761: DataConversionWarning: A column-vector y was passed when a 1d array was expected. Please change the shape of y to (n_samples, ), for example using ravel().\n",
      "  y = column_or_1d(y, warn=True)\n",
      "/Users/itarou/anaconda3/lib/python3.6/site-packages/sklearn/utils/validation.py:761: DataConversionWarning: A column-vector y was passed when a 1d array was expected. Please change the shape of y to (n_samples, ), for example using ravel().\n",
      "  y = column_or_1d(y, warn=True)\n",
      "/Users/itarou/anaconda3/lib/python3.6/site-packages/sklearn/utils/validation.py:761: DataConversionWarning: A column-vector y was passed when a 1d array was expected. Please change the shape of y to (n_samples, ), for example using ravel().\n",
      "  y = column_or_1d(y, warn=True)\n",
      "/Users/itarou/anaconda3/lib/python3.6/site-packages/sklearn/utils/validation.py:761: DataConversionWarning: A column-vector y was passed when a 1d array was expected. Please change the shape of y to (n_samples, ), for example using ravel().\n",
      "  y = column_or_1d(y, warn=True)\n",
      "/Users/itarou/anaconda3/lib/python3.6/site-packages/sklearn/utils/validation.py:761: DataConversionWarning: A column-vector y was passed when a 1d array was expected. Please change the shape of y to (n_samples, ), for example using ravel().\n",
      "  y = column_or_1d(y, warn=True)\n",
      "/Users/itarou/anaconda3/lib/python3.6/site-packages/sklearn/utils/validation.py:761: DataConversionWarning: A column-vector y was passed when a 1d array was expected. Please change the shape of y to (n_samples, ), for example using ravel().\n",
      "  y = column_or_1d(y, warn=True)\n",
      "/Users/itarou/anaconda3/lib/python3.6/site-packages/sklearn/utils/validation.py:761: DataConversionWarning: A column-vector y was passed when a 1d array was expected. Please change the shape of y to (n_samples, ), for example using ravel().\n",
      "  y = column_or_1d(y, warn=True)\n",
      "/Users/itarou/anaconda3/lib/python3.6/site-packages/sklearn/utils/validation.py:761: DataConversionWarning: A column-vector y was passed when a 1d array was expected. Please change the shape of y to (n_samples, ), for example using ravel().\n",
      "  y = column_or_1d(y, warn=True)\n",
      "/Users/itarou/anaconda3/lib/python3.6/site-packages/sklearn/utils/validation.py:761: DataConversionWarning: A column-vector y was passed when a 1d array was expected. Please change the shape of y to (n_samples, ), for example using ravel().\n",
      "  y = column_or_1d(y, warn=True)\n",
      "/Users/itarou/anaconda3/lib/python3.6/site-packages/sklearn/utils/validation.py:761: DataConversionWarning: A column-vector y was passed when a 1d array was expected. Please change the shape of y to (n_samples, ), for example using ravel().\n",
      "  y = column_or_1d(y, warn=True)\n",
      "/Users/itarou/anaconda3/lib/python3.6/site-packages/sklearn/utils/validation.py:761: DataConversionWarning: A column-vector y was passed when a 1d array was expected. Please change the shape of y to (n_samples, ), for example using ravel().\n",
      "  y = column_or_1d(y, warn=True)\n",
      "/Users/itarou/anaconda3/lib/python3.6/site-packages/sklearn/utils/validation.py:761: DataConversionWarning: A column-vector y was passed when a 1d array was expected. Please change the shape of y to (n_samples, ), for example using ravel().\n",
      "  y = column_or_1d(y, warn=True)\n",
      "/Users/itarou/anaconda3/lib/python3.6/site-packages/sklearn/utils/validation.py:761: DataConversionWarning: A column-vector y was passed when a 1d array was expected. Please change the shape of y to (n_samples, ), for example using ravel().\n",
      "  y = column_or_1d(y, warn=True)\n",
      "/Users/itarou/anaconda3/lib/python3.6/site-packages/sklearn/utils/validation.py:761: DataConversionWarning: A column-vector y was passed when a 1d array was expected. Please change the shape of y to (n_samples, ), for example using ravel().\n",
      "  y = column_or_1d(y, warn=True)\n",
      "/Users/itarou/anaconda3/lib/python3.6/site-packages/sklearn/utils/validation.py:761: DataConversionWarning: A column-vector y was passed when a 1d array was expected. Please change the shape of y to (n_samples, ), for example using ravel().\n",
      "  y = column_or_1d(y, warn=True)\n",
      "/Users/itarou/anaconda3/lib/python3.6/site-packages/sklearn/utils/validation.py:761: DataConversionWarning: A column-vector y was passed when a 1d array was expected. Please change the shape of y to (n_samples, ), for example using ravel().\n",
      "  y = column_or_1d(y, warn=True)\n",
      "/Users/itarou/anaconda3/lib/python3.6/site-packages/sklearn/utils/validation.py:761: DataConversionWarning: A column-vector y was passed when a 1d array was expected. Please change the shape of y to (n_samples, ), for example using ravel().\n",
      "  y = column_or_1d(y, warn=True)\n",
      "/Users/itarou/anaconda3/lib/python3.6/site-packages/sklearn/utils/validation.py:761: DataConversionWarning: A column-vector y was passed when a 1d array was expected. Please change the shape of y to (n_samples, ), for example using ravel().\n",
      "  y = column_or_1d(y, warn=True)\n",
      "/Users/itarou/anaconda3/lib/python3.6/site-packages/sklearn/utils/validation.py:761: DataConversionWarning: A column-vector y was passed when a 1d array was expected. Please change the shape of y to (n_samples, ), for example using ravel().\n",
      "  y = column_or_1d(y, warn=True)\n",
      "/Users/itarou/anaconda3/lib/python3.6/site-packages/sklearn/utils/validation.py:761: DataConversionWarning: A column-vector y was passed when a 1d array was expected. Please change the shape of y to (n_samples, ), for example using ravel().\n",
      "  y = column_or_1d(y, warn=True)\n",
      "/Users/itarou/anaconda3/lib/python3.6/site-packages/sklearn/utils/validation.py:761: DataConversionWarning: A column-vector y was passed when a 1d array was expected. Please change the shape of y to (n_samples, ), for example using ravel().\n",
      "  y = column_or_1d(y, warn=True)\n"
     ]
    },
    {
     "name": "stdout",
     "output_type": "stream",
     "text": [
      "C, εのチューニング\n",
      "最適なパラメーター = {'C': 20000, 'gamma': 0.001}\n",
      "精度 = 0.6326225000793771\n",
      "\n"
     ]
    }
   ],
   "source": [
    "from sklearn.svm import SVR\n",
    "\n",
    "# ハイパーパラメータのチューニング\n",
    "params_cnt = 20\n",
    "#params = {\"C\":np.logspace(10,100,params_cnt), \"epsilon\":np.logspace(-1,1,params_cnt)}\n",
    "params={'C': [20000,30000],'gamma': [0.001,0.0001]}\n",
    "gridsearch = GridSearchCV(SVR(kernel=\"linear\"), params, cv=5, scoring=\"r2\", return_train_score=True)\n",
    "gridsearch.fit(X_pca[:, 0:ele], y_train)\n",
    "print(\"C, εのチューニング\")\n",
    "print(\"最適なパラメーター =\", gridsearch.best_params_)\n",
    "print(\"精度 =\", gridsearch.best_score_)\n",
    "print()"
   ]
  },
  {
   "cell_type": "code",
   "execution_count": 40,
   "metadata": {},
   "outputs": [
    {
     "name": "stderr",
     "output_type": "stream",
     "text": [
      "/Users/itarou/anaconda3/lib/python3.6/site-packages/sklearn/utils/validation.py:761: DataConversionWarning: A column-vector y was passed when a 1d array was expected. Please change the shape of y to (n_samples, ), for example using ravel().\n",
      "  y = column_or_1d(y, warn=True)\n"
     ]
    },
    {
     "name": "stdout",
     "output_type": "stream",
     "text": [
      "切片と係数\n",
      "[10095.29300296]\n",
      "[[1964.94885791 3218.08729977  -83.77765422  203.74846863  203.10907717\n",
      "  -645.38307754 -319.8355835    33.3100299   486.47719769 -149.95126894\n",
      "   407.17652111 1442.49871392 -573.64824794  425.13977981  689.92870311\n",
      "  -144.09130722]]\n",
      "\n",
      "テストデータにフィット\n",
      "テストデータの精度 = 0.65685525050342\n",
      "\n",
      "※参考\n",
      "訓練データの精度 = 0.6874469497834126\n"
     ]
    }
   ],
   "source": [
    "regr = SVR(kernel=\"linear\", C=gridsearch.best_params_[\"C\"], epsilon=gridsearch.best_params_[\"gamma\"])\n",
    "regr.fit(X_train, y_train)\n",
    "print(\"切片と係数\")\n",
    "print(regr.intercept_)\n",
    "print(regr.coef_)\n",
    "print()\n",
    "# テストデータの精度を計算\n",
    "print(\"テストデータにフィット\")\n",
    "print(\"テストデータの精度 =\", regr.score(X_test, y_test))\n",
    "print()\n",
    "print(\"※参考\")\n",
    "print(\"訓練データの精度 =\", regr.score(X_train, y_train))\n",
    "#print(\"交差検証データの精度 =\", regr.score(X_norm[valid_indices, :], y[valid_indices]))\n"
   ]
  },
  {
   "cell_type": "code",
   "execution_count": 97,
   "metadata": {},
   "outputs": [
    {
     "name": "stdout",
     "output_type": "stream",
     "text": [
      "train RMSE:4926.117\n"
     ]
    }
   ],
   "source": [
    "from sklearn.metrics import mean_squared_error as mse\n",
    "print('train RMSE:%.3f'%(mse(y_train, regr.predict(X_train)) ** (1/2)))"
   ]
  },
  {
   "cell_type": "code",
   "execution_count": null,
   "metadata": {},
   "outputs": [],
   "source": []
  }
 ],
 "metadata": {
  "kernelspec": {
   "display_name": "Python 3",
   "language": "python",
   "name": "python3"
  },
  "language_info": {
   "codemirror_mode": {
    "name": "ipython",
    "version": 3
   },
   "file_extension": ".py",
   "mimetype": "text/x-python",
   "name": "python",
   "nbconvert_exporter": "python",
   "pygments_lexer": "ipython3",
   "version": "3.6.6"
  }
 },
 "nbformat": 4,
 "nbformat_minor": 2
}
