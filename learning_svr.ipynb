{
 "cells": [
  {
   "cell_type": "code",
   "execution_count": 2,
   "metadata": {},
   "outputs": [],
   "source": [
    "# 必要なライブラリを読み込み\n",
    "import numpy as np\n",
    "import pandas as pd\n",
    "import matplotlib.pyplot as plt\n",
    "import seaborn as sns\n",
    "%matplotlib inline"
   ]
  },
  {
   "cell_type": "code",
   "execution_count": 4,
   "metadata": {},
   "outputs": [],
   "source": [
    "#前処理したデータを読み込み\n",
    "#train = pd.read_csv('edited_train.csv').drop([\"SOR\"],axis = 1)\n",
    "train = pd.read_csv('edited_train.csv').drop([\"y\", 'month', \"year\", 'hokkaido','kansai', 'disconfort', 'kantou', 'temperature', 'humidity',  'kyusyu','shikoku', 'tohoku', 'tyubu', 'tyugoku','stadium',\"home area\",\"away area\"],axis = 1)\n",
    "#test = pd.read_csv('edited_test.csv')\n",
    "#data1.head(10)"
   ]
  },
  {
   "cell_type": "code",
   "execution_count": 5,
   "metadata": {},
   "outputs": [],
   "source": [
    "drop_col = [\"y\",\"SOR\",\"home_area\",\"away_area\",\"temperature\",\"humidity\",\"year\"]\n",
    "#drop_col = [\"y\",\"SOR\"]\n",
    "area_col = [\"hokkaido\",\"tohoku\",\"kantou\",\"tyubu\",\"kansai\",\"shikoku\",\"tyugoku\",\"kyusyu\"]\n",
    "#drop_col = [\"y\",\"SOR\",\"home area\",\"away area\",\"temperature\",\"humidity\",\"year\"]+area_col\n",
    "drop_col = [\"y\",\"SOR\",\"home area\",\"away area\",\"temperature\",\"humidity\",\"year\",\"rerative distance\"]"
   ]
  },
  {
   "cell_type": "code",
   "execution_count": 6,
   "metadata": {},
   "outputs": [
    {
     "data": {
      "text/plain": [
       "Index(['stage', 'total_p_score', 'capa', 'distance(min)', 'home rank',\n",
       "       'area rank', 'rerative distance', 'away rank', 'holiday',\n",
       "       'weather rank', 'match day'],\n",
       "      dtype='object')"
      ]
     },
     "execution_count": 6,
     "metadata": {},
     "output_type": "execute_result"
    }
   ],
   "source": [
    "top6_index=train.corr()['logy'].abs().nlargest(15).index \n",
    "top6_index[1:]"
   ]
  },
  {
   "cell_type": "code",
   "execution_count": 17,
   "metadata": {},
   "outputs": [
    {
     "name": "stderr",
     "output_type": "stream",
     "text": [
      "/Users/itarou/anaconda3/lib/python3.6/site-packages/sklearn/preprocessing/data.py:625: DataConversionWarning: Data with input dtype int64, float64 were all converted to float64 by StandardScaler.\n",
      "  return self.partial_fit(X, y)\n",
      "/Users/itarou/anaconda3/lib/python3.6/site-packages/sklearn/base.py:462: DataConversionWarning: Data with input dtype int64, float64 were all converted to float64 by StandardScaler.\n",
      "  return self.fit(X, **fit_params).transform(X)\n"
     ]
    }
   ],
   "source": [
    "# データの標準化\n",
    "from sklearn.preprocessing import StandardScaler\n",
    "from sklearn.model_selection import train_test_split\n",
    "X = train.loc[:,top6_index[1:7]]\n",
    "#X = train.drop([\"y\",\"SOR\",\"home area\",\"away area\"],axis = 1)\n",
    "y = train.loc[:,[\"logy\"]].values.reshape(-1)\n",
    "\n",
    "scaler = StandardScaler()\n",
    "X_std = scaler.fit_transform(X) # Xを標準化した行列を生成\n",
    "X_train, X_test, y_train, y_test = train_test_split(X_std, y, test_size = 0.25, random_state = 4649)"
   ]
  },
  {
   "cell_type": "code",
   "execution_count": 7,
   "metadata": {},
   "outputs": [
    {
     "data": {
      "text/plain": [
       "Index(['stage', 'total_p_score', 'capa', 'distance(min)', 'home rank',\n",
       "       'area rank', 'rerative distance', 'away rank', 'holiday'],\n",
       "      dtype='object')"
      ]
     },
     "execution_count": 7,
     "metadata": {},
     "output_type": "execute_result"
    }
   ],
   "source": [
    "X.columns"
   ]
  },
  {
   "cell_type": "code",
   "execution_count": 8,
   "metadata": {},
   "outputs": [],
   "source": [
    "from sklearn.model_selection import StratifiedKFold\n",
    "kf_5 = StratifiedKFold(n_splits=2, shuffle=True, random_state=0)"
   ]
  },
  {
   "cell_type": "code",
   "execution_count": 9,
   "metadata": {},
   "outputs": [],
   "source": [
    "from sklearn.svm import SVR\n",
    "from sklearn.model_selection import GridSearchCV\n",
    "params = {\"alpha\":np.logspace(-2, 4, 24)}\n",
    "# (モデルのインスタンス, 試したいパラメータの値, 分割方法)\n",
    "gs_rd = GridSearchCV(SVR(), params,cv = 5)"
   ]
  },
  {
   "cell_type": "code",
   "execution_count": 10,
   "metadata": {},
   "outputs": [
    {
     "data": {
      "text/plain": [
       "array([1.00000000e-02, 4.64158883e-02, 2.15443469e-01, 1.00000000e+00,\n",
       "       4.64158883e+00, 2.15443469e+01, 1.00000000e+02, 4.64158883e+02,\n",
       "       2.15443469e+03, 1.00000000e+04])"
      ]
     },
     "execution_count": 10,
     "metadata": {},
     "output_type": "execute_result"
    }
   ],
   "source": [
    "np.logspace(-2, 4, 10)"
   ]
  },
  {
   "cell_type": "code",
   "execution_count": null,
   "metadata": {
    "scrolled": true
   },
   "outputs": [],
   "source": [
    "from sklearn.svm import SVR\n",
    "from sklearn.model_selection import GridSearchCV\n",
    "# ハイパーパラメータのチューニング\n",
    "params_cnt = 5\n",
    "cstart = 5\n",
    "cstop = 10\n",
    "gstart = -7\n",
    "gstop =-3\n",
    "#params = {\"C\":np.logspace(10,100,params_cnt), \"epsilon\":np.logspace(-1,1,params_cnt)}\n",
    "#params={'C': np.logspace(cstart, cstop, params_cnt),'gamma': np.logspace(gstart, gstop, params_cnt)}\n",
    "params={'C':np.logspace(1, 5, 4),'gamma': np.logspace(1, 5, 2)}\n",
    "gridsearch = GridSearchCV(SVR(kernel=\"linear\"), params, cv=2, scoring=\"r2\", return_train_score=True)\n",
    "gridsearch.fit(X_train, y_train)\n",
    "print(\"C, εのチューニング\")\n",
    "print(\"最適なパラメーター =\", gridsearch.best_params_)\n",
    "print(\"精度 =\", gridsearch.best_score_)\n",
    "print()"
   ]
  },
  {
   "cell_type": "code",
   "execution_count": 21,
   "metadata": {},
   "outputs": [],
   "source": [
    "paramd = {'C': 4.6415888336127775, 'gamma': 0.0001}\n"
   ]
  },
  {
   "cell_type": "code",
   "execution_count": 22,
   "metadata": {},
   "outputs": [
    {
     "name": "stdout",
     "output_type": "stream",
     "text": [
      "切片と係数\n",
      "[9.03801087]\n",
      "[[ 0.30209176  0.07631145  0.20229433 -0.06693325 -0.1781669  -0.09771627]]\n",
      "\n",
      "テストデータにフィット\n",
      "テストデータの精度 = 0.6937377288979751\n",
      "\n",
      "※参考\n",
      "訓練データの精度 = 0.7015256966688195\n"
     ]
    }
   ],
   "source": [
    "from sklearn.svm import SVR\n",
    "#regr = SVR(kernel=\"linear\", C=gridsearch.best_params_[\"C\"], epsilon=gridsearch.best_params_[\"gamma\"])\n",
    "regr = SVR(kernel=\"linear\", C=paramd[\"C\"], epsilon=paramd[\"gamma\"])\n",
    "regr.fit(X_train, y_train)\n",
    "print(\"切片と係数\")\n",
    "print(regr.intercept_)\n",
    "print(regr.coef_)\n",
    "print()\n",
    "# テストデータの精度を計算\n",
    "print(\"テストデータにフィット\")\n",
    "print(\"テストデータの精度 =\", regr.score(X_test, y_test))\n",
    "print()\n",
    "print(\"※参考\")\n",
    "print(\"訓練データの精度 =\", regr.score(X_train, y_train))\n",
    "#print(\"交差検証データの精度 =\", regr.score(X_norm[valid_indices, :], y[valid_indices]))"
   ]
  },
  {
   "cell_type": "code",
   "execution_count": null,
   "metadata": {},
   "outputs": [],
   "source": []
  },
  {
   "cell_type": "code",
   "execution_count": 23,
   "metadata": {},
   "outputs": [
    {
     "name": "stdout",
     "output_type": "stream",
     "text": [
      "train RMSE:4758.466\n"
     ]
    }
   ],
   "source": [
    "from sklearn.metrics import mean_squared_error as mse\n",
    "print('train RMSE:%.3f'%(mse(np.exp(y_train), np.exp(regr.predict(X_train))) ** (1/2)))"
   ]
  },
  {
   "cell_type": "code",
   "execution_count": 24,
   "metadata": {},
   "outputs": [
    {
     "name": "stdout",
     "output_type": "stream",
     "text": [
      "train RMSE:4389.611\n"
     ]
    }
   ],
   "source": [
    "from sklearn.metrics import mean_squared_error as mse\n",
    "\n",
    "print('train RMSE:%.3f'%(mse(np.exp(y_test), np.exp(regr.predict(X_test))) ** (1/2)))"
   ]
  },
  {
   "cell_type": "code",
   "execution_count": null,
   "metadata": {},
   "outputs": [],
   "source": []
  }
 ],
 "metadata": {
  "kernelspec": {
   "display_name": "Python 3",
   "language": "python",
   "name": "python3"
  },
  "language_info": {
   "codemirror_mode": {
    "name": "ipython",
    "version": 3
   },
   "file_extension": ".py",
   "mimetype": "text/x-python",
   "name": "python",
   "nbconvert_exporter": "python",
   "pygments_lexer": "ipython3",
   "version": "3.6.6"
  }
 },
 "nbformat": 4,
 "nbformat_minor": 2
}
